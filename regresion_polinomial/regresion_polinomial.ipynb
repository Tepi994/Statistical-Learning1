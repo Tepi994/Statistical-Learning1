{
 "cells": [
  {
   "cell_type": "markdown",
   "metadata": {},
   "source": [
    "## Regresion Polinomial & Feature engineering"
   ]
  },
  {
   "cell_type": "code",
   "execution_count": 1,
   "metadata": {},
   "outputs": [],
   "source": [
    "import pandas as pd\n",
    "import numpy as np\n",
    "import seaborn as sns\n",
    "import tensorflow as tf\n",
    "import matplotlib.pyplot as plt "
   ]
  },
  {
   "cell_type": "code",
   "execution_count": 2,
   "metadata": {},
   "outputs": [],
   "source": [
    "data = pd.read_csv('winequality-red.csv')\n"
   ]
  },
  {
   "cell_type": "markdown",
   "metadata": {},
   "source": [
    "### Red Wine Quality Data\n",
    "\n",
    "Se aplicará regresión para crear un modelo de la calidad de vino en función de características del mismo, siendo 1 el peor vino y 10 el mejor.\n",
    "\n",
    "Variables de entrada:\n",
    "1. fixed acidity \n",
    "2. volatile acidity \n",
    "3. citric acid \n",
    "4. residual sugar \n",
    "5. chlorides \n",
    "6. free sulfur dioxide \n",
    "7. total sulfur dioxide \n",
    "8. density \n",
    "9. pH \n",
    "10. sulphates \n",
    "11. alcohol \n",
    "\n",
    "Varaible a predecir: \n",
    "12. quality (puntuacion  entre 0 y 10) \n",
    "\n"
   ]
  },
  {
   "cell_type": "code",
   "execution_count": 3,
   "metadata": {},
   "outputs": [
    {
     "data": {
      "text/html": [
       "<div>\n",
       "<style scoped>\n",
       "    .dataframe tbody tr th:only-of-type {\n",
       "        vertical-align: middle;\n",
       "    }\n",
       "\n",
       "    .dataframe tbody tr th {\n",
       "        vertical-align: top;\n",
       "    }\n",
       "\n",
       "    .dataframe thead th {\n",
       "        text-align: right;\n",
       "    }\n",
       "</style>\n",
       "<table border=\"1\" class=\"dataframe\">\n",
       "  <thead>\n",
       "    <tr style=\"text-align: right;\">\n",
       "      <th></th>\n",
       "      <th>fixed acidity</th>\n",
       "      <th>volatile acidity</th>\n",
       "      <th>citric acid</th>\n",
       "      <th>residual sugar</th>\n",
       "      <th>chlorides</th>\n",
       "      <th>free sulfur dioxide</th>\n",
       "      <th>total sulfur dioxide</th>\n",
       "      <th>density</th>\n",
       "      <th>pH</th>\n",
       "      <th>sulphates</th>\n",
       "      <th>alcohol</th>\n",
       "      <th>quality</th>\n",
       "    </tr>\n",
       "  </thead>\n",
       "  <tbody>\n",
       "    <tr>\n",
       "      <th>0</th>\n",
       "      <td>7.4</td>\n",
       "      <td>0.70</td>\n",
       "      <td>0.00</td>\n",
       "      <td>1.9</td>\n",
       "      <td>0.076</td>\n",
       "      <td>11.0</td>\n",
       "      <td>34.0</td>\n",
       "      <td>0.9978</td>\n",
       "      <td>3.51</td>\n",
       "      <td>0.56</td>\n",
       "      <td>9.4</td>\n",
       "      <td>5</td>\n",
       "    </tr>\n",
       "    <tr>\n",
       "      <th>1</th>\n",
       "      <td>7.8</td>\n",
       "      <td>0.88</td>\n",
       "      <td>0.00</td>\n",
       "      <td>2.6</td>\n",
       "      <td>0.098</td>\n",
       "      <td>25.0</td>\n",
       "      <td>67.0</td>\n",
       "      <td>0.9968</td>\n",
       "      <td>3.20</td>\n",
       "      <td>0.68</td>\n",
       "      <td>9.8</td>\n",
       "      <td>5</td>\n",
       "    </tr>\n",
       "    <tr>\n",
       "      <th>2</th>\n",
       "      <td>7.8</td>\n",
       "      <td>0.76</td>\n",
       "      <td>0.04</td>\n",
       "      <td>2.3</td>\n",
       "      <td>0.092</td>\n",
       "      <td>15.0</td>\n",
       "      <td>54.0</td>\n",
       "      <td>0.9970</td>\n",
       "      <td>3.26</td>\n",
       "      <td>0.65</td>\n",
       "      <td>9.8</td>\n",
       "      <td>5</td>\n",
       "    </tr>\n",
       "    <tr>\n",
       "      <th>3</th>\n",
       "      <td>11.2</td>\n",
       "      <td>0.28</td>\n",
       "      <td>0.56</td>\n",
       "      <td>1.9</td>\n",
       "      <td>0.075</td>\n",
       "      <td>17.0</td>\n",
       "      <td>60.0</td>\n",
       "      <td>0.9980</td>\n",
       "      <td>3.16</td>\n",
       "      <td>0.58</td>\n",
       "      <td>9.8</td>\n",
       "      <td>6</td>\n",
       "    </tr>\n",
       "    <tr>\n",
       "      <th>4</th>\n",
       "      <td>7.4</td>\n",
       "      <td>0.70</td>\n",
       "      <td>0.00</td>\n",
       "      <td>1.9</td>\n",
       "      <td>0.076</td>\n",
       "      <td>11.0</td>\n",
       "      <td>34.0</td>\n",
       "      <td>0.9978</td>\n",
       "      <td>3.51</td>\n",
       "      <td>0.56</td>\n",
       "      <td>9.4</td>\n",
       "      <td>5</td>\n",
       "    </tr>\n",
       "  </tbody>\n",
       "</table>\n",
       "</div>"
      ],
      "text/plain": [
       "   fixed acidity  volatile acidity  citric acid  residual sugar  chlorides  \\\n",
       "0            7.4              0.70         0.00             1.9      0.076   \n",
       "1            7.8              0.88         0.00             2.6      0.098   \n",
       "2            7.8              0.76         0.04             2.3      0.092   \n",
       "3           11.2              0.28         0.56             1.9      0.075   \n",
       "4            7.4              0.70         0.00             1.9      0.076   \n",
       "\n",
       "   free sulfur dioxide  total sulfur dioxide  density    pH  sulphates  \\\n",
       "0                 11.0                  34.0   0.9978  3.51       0.56   \n",
       "1                 25.0                  67.0   0.9968  3.20       0.68   \n",
       "2                 15.0                  54.0   0.9970  3.26       0.65   \n",
       "3                 17.0                  60.0   0.9980  3.16       0.58   \n",
       "4                 11.0                  34.0   0.9978  3.51       0.56   \n",
       "\n",
       "   alcohol  quality  \n",
       "0      9.4        5  \n",
       "1      9.8        5  \n",
       "2      9.8        5  \n",
       "3      9.8        6  \n",
       "4      9.4        5  "
      ]
     },
     "execution_count": 3,
     "metadata": {},
     "output_type": "execute_result"
    }
   ],
   "source": [
    "data.head()"
   ]
  },
  {
   "cell_type": "markdown",
   "metadata": {},
   "source": [
    "### Instrucciones\n",
    "\n",
    "1. Seleccionar y transformar(generando las combinaciones polinomiales para un polinomio de grado dos o tres a elección) las features que considere que son las mejores para predecir la calidad del vino, utilizar como minimo 2 features. Para seleccionar las features, hacer un analisis exploratorio por ejemplo(pero no limitado a ):  graficando y viendo la forma en que se comportan los datos.\n",
    "\n",
    " Por ejemplo, se tienen las features \"a\" y \"b\" y seleccionamos polinomio de grado 2, hacemos feature engineering para obtener :\n",
    " \n",
    " $[a,b,a^{2},b^{2},ab]$\n",
    " \n",
    " No olvidar el \"bias\" (parámetro multiplicado por 1) ,con lo cual el dataset puede quedar con las columnas:\n",
    " \n",
    " $[1,a,b,a^{2},b^{2},ab]$\n",
    "2. Una vez transformada la data aplicar regresion lineal con las features polinomiales usando Tensorflow.\n",
    "\n",
    "Requisitos adicionales:\n",
    "* Se debe agregar al notebook un screenshot del grafo de tensorboard, simplificando(usando  names , y name_scope como visto en clase).\n",
    "\n",
    "* Se debe generar un directorio de logs de tensorboard para cada corrida/experimento , con cada directorio identificando facilmente la configuración del experimento como visto en clase, por ejemplo para un experimento con learning rate = 0.1 , y polinomio grado 2  crear un directorio: lr=0.1_polinomio_grado=2. (Agregar al notebook un screenshot de estas gráficas)\n",
    "\n",
    "* Concluir en markdown cual es el mejor modelo para este caso basado en la comparativa entre curvas de costo/error en tensorboard."
   ]
  },
  {
   "cell_type": "markdown",
   "metadata": {},
   "source": [
    "# Correlation Plot of Variables\n",
    "A Correlation matrix is created in order to determine which variables will be selected for the model."
   ]
  },
  {
   "cell_type": "code",
   "execution_count": 4,
   "metadata": {},
   "outputs": [
    {
     "data": {
      "text/html": [
       "<style  type=\"text/css\" >\n",
       "    #T_331ba0fe_862f_11e9_b51c_0028f8e12db4row0_col0 {\n",
       "            background-color:  #b40426;\n",
       "            color:  #f1f1f1;\n",
       "        }    #T_331ba0fe_862f_11e9_b51c_0028f8e12db4row0_col1 {\n",
       "            background-color:  #779af7;\n",
       "            color:  #000000;\n",
       "        }    #T_331ba0fe_862f_11e9_b51c_0028f8e12db4row0_col2 {\n",
       "            background-color:  #f08a6c;\n",
       "            color:  #000000;\n",
       "        }    #T_331ba0fe_862f_11e9_b51c_0028f8e12db4row0_col3 {\n",
       "            background-color:  #7699f6;\n",
       "            color:  #000000;\n",
       "        }    #T_331ba0fe_862f_11e9_b51c_0028f8e12db4row0_col4 {\n",
       "            background-color:  #98b9ff;\n",
       "            color:  #000000;\n",
       "        }    #T_331ba0fe_862f_11e9_b51c_0028f8e12db4row0_col5 {\n",
       "            background-color:  #3b4cc0;\n",
       "            color:  #f1f1f1;\n",
       "        }    #T_331ba0fe_862f_11e9_b51c_0028f8e12db4row0_col6 {\n",
       "            background-color:  #516ddb;\n",
       "            color:  #000000;\n",
       "        }    #T_331ba0fe_862f_11e9_b51c_0028f8e12db4row0_col7 {\n",
       "            background-color:  #f18d6f;\n",
       "            color:  #000000;\n",
       "        }    #T_331ba0fe_862f_11e9_b51c_0028f8e12db4row0_col8 {\n",
       "            background-color:  #3b4cc0;\n",
       "            color:  #f1f1f1;\n",
       "        }    #T_331ba0fe_862f_11e9_b51c_0028f8e12db4row0_col9 {\n",
       "            background-color:  #b1cbfc;\n",
       "            color:  #000000;\n",
       "        }    #T_331ba0fe_862f_11e9_b51c_0028f8e12db4row0_col10 {\n",
       "            background-color:  #9bbcff;\n",
       "            color:  #000000;\n",
       "        }    #T_331ba0fe_862f_11e9_b51c_0028f8e12db4row0_col11 {\n",
       "            background-color:  #b6cefa;\n",
       "            color:  #000000;\n",
       "        }    #T_331ba0fe_862f_11e9_b51c_0028f8e12db4row1_col0 {\n",
       "            background-color:  #8db0fe;\n",
       "            color:  #000000;\n",
       "        }    #T_331ba0fe_862f_11e9_b51c_0028f8e12db4row1_col1 {\n",
       "            background-color:  #b40426;\n",
       "            color:  #f1f1f1;\n",
       "        }    #T_331ba0fe_862f_11e9_b51c_0028f8e12db4row1_col2 {\n",
       "            background-color:  #3b4cc0;\n",
       "            color:  #f1f1f1;\n",
       "        }    #T_331ba0fe_862f_11e9_b51c_0028f8e12db4row1_col3 {\n",
       "            background-color:  #536edd;\n",
       "            color:  #000000;\n",
       "        }    #T_331ba0fe_862f_11e9_b51c_0028f8e12db4row1_col4 {\n",
       "            background-color:  #90b2fe;\n",
       "            color:  #000000;\n",
       "        }    #T_331ba0fe_862f_11e9_b51c_0028f8e12db4row1_col5 {\n",
       "            background-color:  #6180e9;\n",
       "            color:  #000000;\n",
       "        }    #T_331ba0fe_862f_11e9_b51c_0028f8e12db4row1_col6 {\n",
       "            background-color:  #86a9fc;\n",
       "            color:  #000000;\n",
       "        }    #T_331ba0fe_862f_11e9_b51c_0028f8e12db4row1_col7 {\n",
       "            background-color:  #aec9fc;\n",
       "            color:  #000000;\n",
       "        }    #T_331ba0fe_862f_11e9_b51c_0028f8e12db4row1_col8 {\n",
       "            background-color:  #e8d6cc;\n",
       "            color:  #000000;\n",
       "        }    #T_331ba0fe_862f_11e9_b51c_0028f8e12db4row1_col9 {\n",
       "            background-color:  #3b4cc0;\n",
       "            color:  #f1f1f1;\n",
       "        }    #T_331ba0fe_862f_11e9_b51c_0028f8e12db4row1_col10 {\n",
       "            background-color:  #7a9df8;\n",
       "            color:  #000000;\n",
       "        }    #T_331ba0fe_862f_11e9_b51c_0028f8e12db4row1_col11 {\n",
       "            background-color:  #3b4cc0;\n",
       "            color:  #f1f1f1;\n",
       "        }    #T_331ba0fe_862f_11e9_b51c_0028f8e12db4row2_col0 {\n",
       "            background-color:  #ec8165;\n",
       "            color:  #000000;\n",
       "        }    #T_331ba0fe_862f_11e9_b51c_0028f8e12db4row2_col1 {\n",
       "            background-color:  #3b4cc0;\n",
       "            color:  #f1f1f1;\n",
       "        }    #T_331ba0fe_862f_11e9_b51c_0028f8e12db4row2_col2 {\n",
       "            background-color:  #b40426;\n",
       "            color:  #f1f1f1;\n",
       "        }    #T_331ba0fe_862f_11e9_b51c_0028f8e12db4row2_col3 {\n",
       "            background-color:  #80a3fa;\n",
       "            color:  #000000;\n",
       "        }    #T_331ba0fe_862f_11e9_b51c_0028f8e12db4row2_col4 {\n",
       "            background-color:  #b6cefa;\n",
       "            color:  #000000;\n",
       "        }    #T_331ba0fe_862f_11e9_b51c_0028f8e12db4row2_col5 {\n",
       "            background-color:  #536edd;\n",
       "            color:  #000000;\n",
       "        }    #T_331ba0fe_862f_11e9_b51c_0028f8e12db4row2_col6 {\n",
       "            background-color:  #7b9ff9;\n",
       "            color:  #000000;\n",
       "        }    #T_331ba0fe_862f_11e9_b51c_0028f8e12db4row2_col7 {\n",
       "            background-color:  #eed0c0;\n",
       "            color:  #000000;\n",
       "        }    #T_331ba0fe_862f_11e9_b51c_0028f8e12db4row2_col8 {\n",
       "            background-color:  #5470de;\n",
       "            color:  #000000;\n",
       "        }    #T_331ba0fe_862f_11e9_b51c_0028f8e12db4row2_col9 {\n",
       "            background-color:  #d1dae9;\n",
       "            color:  #000000;\n",
       "        }    #T_331ba0fe_862f_11e9_b51c_0028f8e12db4row2_col10 {\n",
       "            background-color:  #c1d4f4;\n",
       "            color:  #000000;\n",
       "        }    #T_331ba0fe_862f_11e9_b51c_0028f8e12db4row2_col11 {\n",
       "            background-color:  #cdd9ec;\n",
       "            color:  #000000;\n",
       "        }    #T_331ba0fe_862f_11e9_b51c_0028f8e12db4row3_col0 {\n",
       "            background-color:  #d6dce4;\n",
       "            color:  #000000;\n",
       "        }    #T_331ba0fe_862f_11e9_b51c_0028f8e12db4row3_col1 {\n",
       "            background-color:  #b2ccfb;\n",
       "            color:  #000000;\n",
       "        }    #T_331ba0fe_862f_11e9_b51c_0028f8e12db4row3_col2 {\n",
       "            background-color:  #cedaeb;\n",
       "            color:  #000000;\n",
       "        }    #T_331ba0fe_862f_11e9_b51c_0028f8e12db4row3_col3 {\n",
       "            background-color:  #b40426;\n",
       "            color:  #f1f1f1;\n",
       "        }    #T_331ba0fe_862f_11e9_b51c_0028f8e12db4row3_col4 {\n",
       "            background-color:  #8db0fe;\n",
       "            color:  #000000;\n",
       "        }    #T_331ba0fe_862f_11e9_b51c_0028f8e12db4row3_col5 {\n",
       "            background-color:  #9dbdff;\n",
       "            color:  #000000;\n",
       "        }    #T_331ba0fe_862f_11e9_b51c_0028f8e12db4row3_col6 {\n",
       "            background-color:  #abc8fd;\n",
       "            color:  #000000;\n",
       "        }    #T_331ba0fe_862f_11e9_b51c_0028f8e12db4row3_col7 {\n",
       "            background-color:  #edd2c3;\n",
       "            color:  #000000;\n",
       "        }    #T_331ba0fe_862f_11e9_b51c_0028f8e12db4row3_col8 {\n",
       "            background-color:  #b1cbfc;\n",
       "            color:  #000000;\n",
       "        }    #T_331ba0fe_862f_11e9_b51c_0028f8e12db4row3_col9 {\n",
       "            background-color:  #80a3fa;\n",
       "            color:  #000000;\n",
       "        }    #T_331ba0fe_862f_11e9_b51c_0028f8e12db4row3_col10 {\n",
       "            background-color:  #b3cdfb;\n",
       "            color:  #000000;\n",
       "        }    #T_331ba0fe_862f_11e9_b51c_0028f8e12db4row3_col11 {\n",
       "            background-color:  #9bbcff;\n",
       "            color:  #000000;\n",
       "        }    #T_331ba0fe_862f_11e9_b51c_0028f8e12db4row4_col0 {\n",
       "            background-color:  #d3dbe7;\n",
       "            color:  #000000;\n",
       "        }    #T_331ba0fe_862f_11e9_b51c_0028f8e12db4row4_col1 {\n",
       "            background-color:  #bfd3f6;\n",
       "            color:  #000000;\n",
       "        }    #T_331ba0fe_862f_11e9_b51c_0028f8e12db4row4_col2 {\n",
       "            background-color:  #d9dce1;\n",
       "            color:  #000000;\n",
       "        }    #T_331ba0fe_862f_11e9_b51c_0028f8e12db4row4_col3 {\n",
       "            background-color:  #6384eb;\n",
       "            color:  #000000;\n",
       "        }    #T_331ba0fe_862f_11e9_b51c_0028f8e12db4row4_col4 {\n",
       "            background-color:  #b40426;\n",
       "            color:  #f1f1f1;\n",
       "        }    #T_331ba0fe_862f_11e9_b51c_0028f8e12db4row4_col5 {\n",
       "            background-color:  #6687ed;\n",
       "            color:  #000000;\n",
       "        }    #T_331ba0fe_862f_11e9_b51c_0028f8e12db4row4_col6 {\n",
       "            background-color:  #7ea1fa;\n",
       "            color:  #000000;\n",
       "        }    #T_331ba0fe_862f_11e9_b51c_0028f8e12db4row4_col7 {\n",
       "            background-color:  #d4dbe6;\n",
       "            color:  #000000;\n",
       "        }    #T_331ba0fe_862f_11e9_b51c_0028f8e12db4row4_col8 {\n",
       "            background-color:  #8caffe;\n",
       "            color:  #000000;\n",
       "        }    #T_331ba0fe_862f_11e9_b51c_0028f8e12db4row4_col9 {\n",
       "            background-color:  #dddcdc;\n",
       "            color:  #000000;\n",
       "        }    #T_331ba0fe_862f_11e9_b51c_0028f8e12db4row4_col10 {\n",
       "            background-color:  #7699f6;\n",
       "            color:  #000000;\n",
       "        }    #T_331ba0fe_862f_11e9_b51c_0028f8e12db4row4_col11 {\n",
       "            background-color:  #779af7;\n",
       "            color:  #000000;\n",
       "        }    #T_331ba0fe_862f_11e9_b51c_0028f8e12db4row5_col0 {\n",
       "            background-color:  #a3c2fe;\n",
       "            color:  #000000;\n",
       "        }    #T_331ba0fe_862f_11e9_b51c_0028f8e12db4row5_col1 {\n",
       "            background-color:  #afcafc;\n",
       "            color:  #000000;\n",
       "        }    #T_331ba0fe_862f_11e9_b51c_0028f8e12db4row5_col2 {\n",
       "            background-color:  #a5c3fe;\n",
       "            color:  #000000;\n",
       "        }    #T_331ba0fe_862f_11e9_b51c_0028f8e12db4row5_col3 {\n",
       "            background-color:  #8db0fe;\n",
       "            color:  #000000;\n",
       "        }    #T_331ba0fe_862f_11e9_b51c_0028f8e12db4row5_col4 {\n",
       "            background-color:  #80a3fa;\n",
       "            color:  #000000;\n",
       "        }    #T_331ba0fe_862f_11e9_b51c_0028f8e12db4row5_col5 {\n",
       "            background-color:  #b40426;\n",
       "            color:  #f1f1f1;\n",
       "        }    #T_331ba0fe_862f_11e9_b51c_0028f8e12db4row5_col6 {\n",
       "            background-color:  #f6a385;\n",
       "            color:  #000000;\n",
       "        }    #T_331ba0fe_862f_11e9_b51c_0028f8e12db4row5_col7 {\n",
       "            background-color:  #a5c3fe;\n",
       "            color:  #000000;\n",
       "        }    #T_331ba0fe_862f_11e9_b51c_0028f8e12db4row5_col8 {\n",
       "            background-color:  #cedaeb;\n",
       "            color:  #000000;\n",
       "        }    #T_331ba0fe_862f_11e9_b51c_0028f8e12db4row5_col9 {\n",
       "            background-color:  #8caffe;\n",
       "            color:  #000000;\n",
       "        }    #T_331ba0fe_862f_11e9_b51c_0028f8e12db4row5_col10 {\n",
       "            background-color:  #9abbff;\n",
       "            color:  #000000;\n",
       "        }    #T_331ba0fe_862f_11e9_b51c_0028f8e12db4row5_col11 {\n",
       "            background-color:  #8badfd;\n",
       "            color:  #000000;\n",
       "        }    #T_331ba0fe_862f_11e9_b51c_0028f8e12db4row6_col0 {\n",
       "            background-color:  #abc8fd;\n",
       "            color:  #000000;\n",
       "        }    #T_331ba0fe_862f_11e9_b51c_0028f8e12db4row6_col1 {\n",
       "            background-color:  #c1d4f4;\n",
       "            color:  #000000;\n",
       "        }    #T_331ba0fe_862f_11e9_b51c_0028f8e12db4row6_col2 {\n",
       "            background-color:  #b9d0f9;\n",
       "            color:  #000000;\n",
       "        }    #T_331ba0fe_862f_11e9_b51c_0028f8e12db4row6_col3 {\n",
       "            background-color:  #93b5fe;\n",
       "            color:  #000000;\n",
       "        }    #T_331ba0fe_862f_11e9_b51c_0028f8e12db4row6_col4 {\n",
       "            background-color:  #8caffe;\n",
       "            color:  #000000;\n",
       "        }    #T_331ba0fe_862f_11e9_b51c_0028f8e12db4row6_col5 {\n",
       "            background-color:  #f7a889;\n",
       "            color:  #000000;\n",
       "        }    #T_331ba0fe_862f_11e9_b51c_0028f8e12db4row6_col6 {\n",
       "            background-color:  #b40426;\n",
       "            color:  #f1f1f1;\n",
       "        }    #T_331ba0fe_862f_11e9_b51c_0028f8e12db4row6_col7 {\n",
       "            background-color:  #bad0f8;\n",
       "            color:  #000000;\n",
       "        }    #T_331ba0fe_862f_11e9_b51c_0028f8e12db4row6_col8 {\n",
       "            background-color:  #b5cdfa;\n",
       "            color:  #000000;\n",
       "        }    #T_331ba0fe_862f_11e9_b51c_0028f8e12db4row6_col9 {\n",
       "            background-color:  #89acfd;\n",
       "            color:  #000000;\n",
       "        }    #T_331ba0fe_862f_11e9_b51c_0028f8e12db4row6_col10 {\n",
       "            background-color:  #799cf8;\n",
       "            color:  #000000;\n",
       "        }    #T_331ba0fe_862f_11e9_b51c_0028f8e12db4row6_col11 {\n",
       "            background-color:  #688aef;\n",
       "            color:  #000000;\n",
       "        }    #T_331ba0fe_862f_11e9_b51c_0028f8e12db4row7_col0 {\n",
       "            background-color:  #ed8366;\n",
       "            color:  #000000;\n",
       "        }    #T_331ba0fe_862f_11e9_b51c_0028f8e12db4row7_col1 {\n",
       "            background-color:  #b6cefa;\n",
       "            color:  #000000;\n",
       "        }    #T_331ba0fe_862f_11e9_b51c_0028f8e12db4row7_col2 {\n",
       "            background-color:  #f1cdba;\n",
       "            color:  #000000;\n",
       "        }    #T_331ba0fe_862f_11e9_b51c_0028f8e12db4row7_col3 {\n",
       "            background-color:  #c1d4f4;\n",
       "            color:  #000000;\n",
       "        }    #T_331ba0fe_862f_11e9_b51c_0028f8e12db4row7_col4 {\n",
       "            background-color:  #b6cefa;\n",
       "            color:  #000000;\n",
       "        }    #T_331ba0fe_862f_11e9_b51c_0028f8e12db4row7_col5 {\n",
       "            background-color:  #5e7de7;\n",
       "            color:  #000000;\n",
       "        }    #T_331ba0fe_862f_11e9_b51c_0028f8e12db4row7_col6 {\n",
       "            background-color:  #85a8fc;\n",
       "            color:  #000000;\n",
       "        }    #T_331ba0fe_862f_11e9_b51c_0028f8e12db4row7_col7 {\n",
       "            background-color:  #b40426;\n",
       "            color:  #f1f1f1;\n",
       "        }    #T_331ba0fe_862f_11e9_b51c_0028f8e12db4row7_col8 {\n",
       "            background-color:  #7b9ff9;\n",
       "            color:  #000000;\n",
       "        }    #T_331ba0fe_862f_11e9_b51c_0028f8e12db4row7_col9 {\n",
       "            background-color:  #a7c5fe;\n",
       "            color:  #000000;\n",
       "        }    #T_331ba0fe_862f_11e9_b51c_0028f8e12db4row7_col10 {\n",
       "            background-color:  #3b4cc0;\n",
       "            color:  #f1f1f1;\n",
       "        }    #T_331ba0fe_862f_11e9_b51c_0028f8e12db4row7_col11 {\n",
       "            background-color:  #6b8df0;\n",
       "            color:  #000000;\n",
       "        }    #T_331ba0fe_862f_11e9_b51c_0028f8e12db4row8_col0 {\n",
       "            background-color:  #3b4cc0;\n",
       "            color:  #f1f1f1;\n",
       "        }    #T_331ba0fe_862f_11e9_b51c_0028f8e12db4row8_col1 {\n",
       "            background-color:  #dedcdb;\n",
       "            color:  #000000;\n",
       "        }    #T_331ba0fe_862f_11e9_b51c_0028f8e12db4row8_col2 {\n",
       "            background-color:  #3c4ec2;\n",
       "            color:  #f1f1f1;\n",
       "        }    #T_331ba0fe_862f_11e9_b51c_0028f8e12db4row8_col3 {\n",
       "            background-color:  #3b4cc0;\n",
       "            color:  #f1f1f1;\n",
       "        }    #T_331ba0fe_862f_11e9_b51c_0028f8e12db4row8_col4 {\n",
       "            background-color:  #3b4cc0;\n",
       "            color:  #f1f1f1;\n",
       "        }    #T_331ba0fe_862f_11e9_b51c_0028f8e12db4row8_col5 {\n",
       "            background-color:  #799cf8;\n",
       "            color:  #000000;\n",
       "        }    #T_331ba0fe_862f_11e9_b51c_0028f8e12db4row8_col6 {\n",
       "            background-color:  #5e7de7;\n",
       "            color:  #000000;\n",
       "        }    #T_331ba0fe_862f_11e9_b51c_0028f8e12db4row8_col7 {\n",
       "            background-color:  #5a78e4;\n",
       "            color:  #000000;\n",
       "        }    #T_331ba0fe_862f_11e9_b51c_0028f8e12db4row8_col8 {\n",
       "            background-color:  #b40426;\n",
       "            color:  #f1f1f1;\n",
       "        }    #T_331ba0fe_862f_11e9_b51c_0028f8e12db4row8_col9 {\n",
       "            background-color:  #4a63d3;\n",
       "            color:  #f1f1f1;\n",
       "        }    #T_331ba0fe_862f_11e9_b51c_0028f8e12db4row8_col10 {\n",
       "            background-color:  #d5dbe5;\n",
       "            color:  #000000;\n",
       "        }    #T_331ba0fe_862f_11e9_b51c_0028f8e12db4row8_col11 {\n",
       "            background-color:  #89acfd;\n",
       "            color:  #000000;\n",
       "        }    #T_331ba0fe_862f_11e9_b51c_0028f8e12db4row9_col0 {\n",
       "            background-color:  #e0dbd8;\n",
       "            color:  #000000;\n",
       "        }    #T_331ba0fe_862f_11e9_b51c_0028f8e12db4row9_col1 {\n",
       "            background-color:  #779af7;\n",
       "            color:  #000000;\n",
       "        }    #T_331ba0fe_862f_11e9_b51c_0028f8e12db4row9_col2 {\n",
       "            background-color:  #ead4c8;\n",
       "            color:  #000000;\n",
       "        }    #T_331ba0fe_862f_11e9_b51c_0028f8e12db4row9_col3 {\n",
       "            background-color:  #5470de;\n",
       "            color:  #000000;\n",
       "        }    #T_331ba0fe_862f_11e9_b51c_0028f8e12db4row9_col4 {\n",
       "            background-color:  #dddcdc;\n",
       "            color:  #000000;\n",
       "        }    #T_331ba0fe_862f_11e9_b51c_0028f8e12db4row9_col5 {\n",
       "            background-color:  #7396f5;\n",
       "            color:  #000000;\n",
       "        }    #T_331ba0fe_862f_11e9_b51c_0028f8e12db4row9_col6 {\n",
       "            background-color:  #7da0f9;\n",
       "            color:  #000000;\n",
       "        }    #T_331ba0fe_862f_11e9_b51c_0028f8e12db4row9_col7 {\n",
       "            background-color:  #cad8ef;\n",
       "            color:  #000000;\n",
       "        }    #T_331ba0fe_862f_11e9_b51c_0028f8e12db4row9_col8 {\n",
       "            background-color:  #9abbff;\n",
       "            color:  #000000;\n",
       "        }    #T_331ba0fe_862f_11e9_b51c_0028f8e12db4row9_col9 {\n",
       "            background-color:  #b40426;\n",
       "            color:  #f1f1f1;\n",
       "        }    #T_331ba0fe_862f_11e9_b51c_0028f8e12db4row9_col10 {\n",
       "            background-color:  #bed2f6;\n",
       "            color:  #000000;\n",
       "        }    #T_331ba0fe_862f_11e9_b51c_0028f8e12db4row9_col11 {\n",
       "            background-color:  #d3dbe7;\n",
       "            color:  #000000;\n",
       "        }    #T_331ba0fe_862f_11e9_b51c_0028f8e12db4row10_col0 {\n",
       "            background-color:  #b6cefa;\n",
       "            color:  #000000;\n",
       "        }    #T_331ba0fe_862f_11e9_b51c_0028f8e12db4row10_col1 {\n",
       "            background-color:  #84a7fc;\n",
       "            color:  #000000;\n",
       "        }    #T_331ba0fe_862f_11e9_b51c_0028f8e12db4row10_col2 {\n",
       "            background-color:  #c9d7f0;\n",
       "            color:  #000000;\n",
       "        }    #T_331ba0fe_862f_11e9_b51c_0028f8e12db4row10_col3 {\n",
       "            background-color:  #5f7fe8;\n",
       "            color:  #000000;\n",
       "        }    #T_331ba0fe_862f_11e9_b51c_0028f8e12db4row10_col4 {\n",
       "            background-color:  #445acc;\n",
       "            color:  #f1f1f1;\n",
       "        }    #T_331ba0fe_862f_11e9_b51c_0028f8e12db4row10_col5 {\n",
       "            background-color:  #506bda;\n",
       "            color:  #000000;\n",
       "        }    #T_331ba0fe_862f_11e9_b51c_0028f8e12db4row10_col6 {\n",
       "            background-color:  #3b4cc0;\n",
       "            color:  #f1f1f1;\n",
       "        }    #T_331ba0fe_862f_11e9_b51c_0028f8e12db4row10_col7 {\n",
       "            background-color:  #3b4cc0;\n",
       "            color:  #f1f1f1;\n",
       "        }    #T_331ba0fe_862f_11e9_b51c_0028f8e12db4row10_col8 {\n",
       "            background-color:  #e4d9d2;\n",
       "            color:  #000000;\n",
       "        }    #T_331ba0fe_862f_11e9_b51c_0028f8e12db4row10_col9 {\n",
       "            background-color:  #97b8ff;\n",
       "            color:  #000000;\n",
       "        }    #T_331ba0fe_862f_11e9_b51c_0028f8e12db4row10_col10 {\n",
       "            background-color:  #b40426;\n",
       "            color:  #f1f1f1;\n",
       "        }    #T_331ba0fe_862f_11e9_b51c_0028f8e12db4row10_col11 {\n",
       "            background-color:  #f4c5ad;\n",
       "            color:  #000000;\n",
       "        }    #T_331ba0fe_862f_11e9_b51c_0028f8e12db4row11_col0 {\n",
       "            background-color:  #d7dce3;\n",
       "            color:  #000000;\n",
       "        }    #T_331ba0fe_862f_11e9_b51c_0028f8e12db4row11_col1 {\n",
       "            background-color:  #5a78e4;\n",
       "            color:  #000000;\n",
       "        }    #T_331ba0fe_862f_11e9_b51c_0028f8e12db4row11_col2 {\n",
       "            background-color:  #dddcdc;\n",
       "            color:  #000000;\n",
       "        }    #T_331ba0fe_862f_11e9_b51c_0028f8e12db4row11_col3 {\n",
       "            background-color:  #5673e0;\n",
       "            color:  #000000;\n",
       "        }    #T_331ba0fe_862f_11e9_b51c_0028f8e12db4row11_col4 {\n",
       "            background-color:  #5b7ae5;\n",
       "            color:  #000000;\n",
       "        }    #T_331ba0fe_862f_11e9_b51c_0028f8e12db4row11_col5 {\n",
       "            background-color:  #5572df;\n",
       "            color:  #000000;\n",
       "        }    #T_331ba0fe_862f_11e9_b51c_0028f8e12db4row11_col6 {\n",
       "            background-color:  #3f53c6;\n",
       "            color:  #f1f1f1;\n",
       "        }    #T_331ba0fe_862f_11e9_b51c_0028f8e12db4row11_col7 {\n",
       "            background-color:  #80a3fa;\n",
       "            color:  #000000;\n",
       "        }    #T_331ba0fe_862f_11e9_b51c_0028f8e12db4row11_col8 {\n",
       "            background-color:  #b7cff9;\n",
       "            color:  #000000;\n",
       "        }    #T_331ba0fe_862f_11e9_b51c_0028f8e12db4row11_col9 {\n",
       "            background-color:  #c3d5f4;\n",
       "            color:  #000000;\n",
       "        }    #T_331ba0fe_862f_11e9_b51c_0028f8e12db4row11_col10 {\n",
       "            background-color:  #f6bda2;\n",
       "            color:  #000000;\n",
       "        }    #T_331ba0fe_862f_11e9_b51c_0028f8e12db4row11_col11 {\n",
       "            background-color:  #b40426;\n",
       "            color:  #f1f1f1;\n",
       "        }</style><table id=\"T_331ba0fe_862f_11e9_b51c_0028f8e12db4\" ><thead>    <tr>        <th class=\"blank level0\" ></th>        <th class=\"col_heading level0 col0\" >fixed acidity</th>        <th class=\"col_heading level0 col1\" >volatile acidity</th>        <th class=\"col_heading level0 col2\" >citric acid</th>        <th class=\"col_heading level0 col3\" >residual sugar</th>        <th class=\"col_heading level0 col4\" >chlorides</th>        <th class=\"col_heading level0 col5\" >free sulfur dioxide</th>        <th class=\"col_heading level0 col6\" >total sulfur dioxide</th>        <th class=\"col_heading level0 col7\" >density</th>        <th class=\"col_heading level0 col8\" >pH</th>        <th class=\"col_heading level0 col9\" >sulphates</th>        <th class=\"col_heading level0 col10\" >alcohol</th>        <th class=\"col_heading level0 col11\" >quality</th>    </tr></thead><tbody>\n",
       "                <tr>\n",
       "                        <th id=\"T_331ba0fe_862f_11e9_b51c_0028f8e12db4level0_row0\" class=\"row_heading level0 row0\" >fixed acidity</th>\n",
       "                        <td id=\"T_331ba0fe_862f_11e9_b51c_0028f8e12db4row0_col0\" class=\"data row0 col0\" >1</td>\n",
       "                        <td id=\"T_331ba0fe_862f_11e9_b51c_0028f8e12db4row0_col1\" class=\"data row0 col1\" >-0.256131</td>\n",
       "                        <td id=\"T_331ba0fe_862f_11e9_b51c_0028f8e12db4row0_col2\" class=\"data row0 col2\" >0.671703</td>\n",
       "                        <td id=\"T_331ba0fe_862f_11e9_b51c_0028f8e12db4row0_col3\" class=\"data row0 col3\" >0.114777</td>\n",
       "                        <td id=\"T_331ba0fe_862f_11e9_b51c_0028f8e12db4row0_col4\" class=\"data row0 col4\" >0.0937052</td>\n",
       "                        <td id=\"T_331ba0fe_862f_11e9_b51c_0028f8e12db4row0_col5\" class=\"data row0 col5\" >-0.153794</td>\n",
       "                        <td id=\"T_331ba0fe_862f_11e9_b51c_0028f8e12db4row0_col6\" class=\"data row0 col6\" >-0.113181</td>\n",
       "                        <td id=\"T_331ba0fe_862f_11e9_b51c_0028f8e12db4row0_col7\" class=\"data row0 col7\" >0.668047</td>\n",
       "                        <td id=\"T_331ba0fe_862f_11e9_b51c_0028f8e12db4row0_col8\" class=\"data row0 col8\" >-0.682978</td>\n",
       "                        <td id=\"T_331ba0fe_862f_11e9_b51c_0028f8e12db4row0_col9\" class=\"data row0 col9\" >0.183006</td>\n",
       "                        <td id=\"T_331ba0fe_862f_11e9_b51c_0028f8e12db4row0_col10\" class=\"data row0 col10\" >-0.0616683</td>\n",
       "                        <td id=\"T_331ba0fe_862f_11e9_b51c_0028f8e12db4row0_col11\" class=\"data row0 col11\" >0.124052</td>\n",
       "            </tr>\n",
       "            <tr>\n",
       "                        <th id=\"T_331ba0fe_862f_11e9_b51c_0028f8e12db4level0_row1\" class=\"row_heading level0 row1\" >volatile acidity</th>\n",
       "                        <td id=\"T_331ba0fe_862f_11e9_b51c_0028f8e12db4row1_col0\" class=\"data row1 col0\" >-0.256131</td>\n",
       "                        <td id=\"T_331ba0fe_862f_11e9_b51c_0028f8e12db4row1_col1\" class=\"data row1 col1\" >1</td>\n",
       "                        <td id=\"T_331ba0fe_862f_11e9_b51c_0028f8e12db4row1_col2\" class=\"data row1 col2\" >-0.552496</td>\n",
       "                        <td id=\"T_331ba0fe_862f_11e9_b51c_0028f8e12db4row1_col3\" class=\"data row1 col3\" >0.00191788</td>\n",
       "                        <td id=\"T_331ba0fe_862f_11e9_b51c_0028f8e12db4row1_col4\" class=\"data row1 col4\" >0.0612978</td>\n",
       "                        <td id=\"T_331ba0fe_862f_11e9_b51c_0028f8e12db4row1_col5\" class=\"data row1 col5\" >-0.0105038</td>\n",
       "                        <td id=\"T_331ba0fe_862f_11e9_b51c_0028f8e12db4row1_col6\" class=\"data row1 col6\" >0.07647</td>\n",
       "                        <td id=\"T_331ba0fe_862f_11e9_b51c_0028f8e12db4row1_col7\" class=\"data row1 col7\" >0.0220262</td>\n",
       "                        <td id=\"T_331ba0fe_862f_11e9_b51c_0028f8e12db4row1_col8\" class=\"data row1 col8\" >0.234937</td>\n",
       "                        <td id=\"T_331ba0fe_862f_11e9_b51c_0028f8e12db4row1_col9\" class=\"data row1 col9\" >-0.260987</td>\n",
       "                        <td id=\"T_331ba0fe_862f_11e9_b51c_0028f8e12db4row1_col10\" class=\"data row1 col10\" >-0.202288</td>\n",
       "                        <td id=\"T_331ba0fe_862f_11e9_b51c_0028f8e12db4row1_col11\" class=\"data row1 col11\" >-0.390558</td>\n",
       "            </tr>\n",
       "            <tr>\n",
       "                        <th id=\"T_331ba0fe_862f_11e9_b51c_0028f8e12db4level0_row2\" class=\"row_heading level0 row2\" >citric acid</th>\n",
       "                        <td id=\"T_331ba0fe_862f_11e9_b51c_0028f8e12db4row2_col0\" class=\"data row2 col0\" >0.671703</td>\n",
       "                        <td id=\"T_331ba0fe_862f_11e9_b51c_0028f8e12db4row2_col1\" class=\"data row2 col1\" >-0.552496</td>\n",
       "                        <td id=\"T_331ba0fe_862f_11e9_b51c_0028f8e12db4row2_col2\" class=\"data row2 col2\" >1</td>\n",
       "                        <td id=\"T_331ba0fe_862f_11e9_b51c_0028f8e12db4row2_col3\" class=\"data row2 col3\" >0.143577</td>\n",
       "                        <td id=\"T_331ba0fe_862f_11e9_b51c_0028f8e12db4row2_col4\" class=\"data row2 col4\" >0.203823</td>\n",
       "                        <td id=\"T_331ba0fe_862f_11e9_b51c_0028f8e12db4row2_col5\" class=\"data row2 col5\" >-0.0609781</td>\n",
       "                        <td id=\"T_331ba0fe_862f_11e9_b51c_0028f8e12db4row2_col6\" class=\"data row2 col6\" >0.035533</td>\n",
       "                        <td id=\"T_331ba0fe_862f_11e9_b51c_0028f8e12db4row2_col7\" class=\"data row2 col7\" >0.364947</td>\n",
       "                        <td id=\"T_331ba0fe_862f_11e9_b51c_0028f8e12db4row2_col8\" class=\"data row2 col8\" >-0.541904</td>\n",
       "                        <td id=\"T_331ba0fe_862f_11e9_b51c_0028f8e12db4row2_col9\" class=\"data row2 col9\" >0.31277</td>\n",
       "                        <td id=\"T_331ba0fe_862f_11e9_b51c_0028f8e12db4row2_col10\" class=\"data row2 col10\" >0.109903</td>\n",
       "                        <td id=\"T_331ba0fe_862f_11e9_b51c_0028f8e12db4row2_col11\" class=\"data row2 col11\" >0.226373</td>\n",
       "            </tr>\n",
       "            <tr>\n",
       "                        <th id=\"T_331ba0fe_862f_11e9_b51c_0028f8e12db4level0_row3\" class=\"row_heading level0 row3\" >residual sugar</th>\n",
       "                        <td id=\"T_331ba0fe_862f_11e9_b51c_0028f8e12db4row3_col0\" class=\"data row3 col0\" >0.114777</td>\n",
       "                        <td id=\"T_331ba0fe_862f_11e9_b51c_0028f8e12db4row3_col1\" class=\"data row3 col1\" >0.00191788</td>\n",
       "                        <td id=\"T_331ba0fe_862f_11e9_b51c_0028f8e12db4row3_col2\" class=\"data row3 col2\" >0.143577</td>\n",
       "                        <td id=\"T_331ba0fe_862f_11e9_b51c_0028f8e12db4row3_col3\" class=\"data row3 col3\" >1</td>\n",
       "                        <td id=\"T_331ba0fe_862f_11e9_b51c_0028f8e12db4row3_col4\" class=\"data row3 col4\" >0.0556095</td>\n",
       "                        <td id=\"T_331ba0fe_862f_11e9_b51c_0028f8e12db4row3_col5\" class=\"data row3 col5\" >0.187049</td>\n",
       "                        <td id=\"T_331ba0fe_862f_11e9_b51c_0028f8e12db4row3_col6\" class=\"data row3 col6\" >0.203028</td>\n",
       "                        <td id=\"T_331ba0fe_862f_11e9_b51c_0028f8e12db4row3_col7\" class=\"data row3 col7\" >0.355283</td>\n",
       "                        <td id=\"T_331ba0fe_862f_11e9_b51c_0028f8e12db4row3_col8\" class=\"data row3 col8\" >-0.0856524</td>\n",
       "                        <td id=\"T_331ba0fe_862f_11e9_b51c_0028f8e12db4row3_col9\" class=\"data row3 col9\" >0.00552712</td>\n",
       "                        <td id=\"T_331ba0fe_862f_11e9_b51c_0028f8e12db4row3_col10\" class=\"data row3 col10\" >0.0420754</td>\n",
       "                        <td id=\"T_331ba0fe_862f_11e9_b51c_0028f8e12db4row3_col11\" class=\"data row3 col11\" >0.0137316</td>\n",
       "            </tr>\n",
       "            <tr>\n",
       "                        <th id=\"T_331ba0fe_862f_11e9_b51c_0028f8e12db4level0_row4\" class=\"row_heading level0 row4\" >chlorides</th>\n",
       "                        <td id=\"T_331ba0fe_862f_11e9_b51c_0028f8e12db4row4_col0\" class=\"data row4 col0\" >0.0937052</td>\n",
       "                        <td id=\"T_331ba0fe_862f_11e9_b51c_0028f8e12db4row4_col1\" class=\"data row4 col1\" >0.0612978</td>\n",
       "                        <td id=\"T_331ba0fe_862f_11e9_b51c_0028f8e12db4row4_col2\" class=\"data row4 col2\" >0.203823</td>\n",
       "                        <td id=\"T_331ba0fe_862f_11e9_b51c_0028f8e12db4row4_col3\" class=\"data row4 col3\" >0.0556095</td>\n",
       "                        <td id=\"T_331ba0fe_862f_11e9_b51c_0028f8e12db4row4_col4\" class=\"data row4 col4\" >1</td>\n",
       "                        <td id=\"T_331ba0fe_862f_11e9_b51c_0028f8e12db4row4_col5\" class=\"data row4 col5\" >0.00556215</td>\n",
       "                        <td id=\"T_331ba0fe_862f_11e9_b51c_0028f8e12db4row4_col6\" class=\"data row4 col6\" >0.0474005</td>\n",
       "                        <td id=\"T_331ba0fe_862f_11e9_b51c_0028f8e12db4row4_col7\" class=\"data row4 col7\" >0.200632</td>\n",
       "                        <td id=\"T_331ba0fe_862f_11e9_b51c_0028f8e12db4row4_col8\" class=\"data row4 col8\" >-0.265026</td>\n",
       "                        <td id=\"T_331ba0fe_862f_11e9_b51c_0028f8e12db4row4_col9\" class=\"data row4 col9\" >0.37126</td>\n",
       "                        <td id=\"T_331ba0fe_862f_11e9_b51c_0028f8e12db4row4_col10\" class=\"data row4 col10\" >-0.221141</td>\n",
       "                        <td id=\"T_331ba0fe_862f_11e9_b51c_0028f8e12db4row4_col11\" class=\"data row4 col11\" >-0.128907</td>\n",
       "            </tr>\n",
       "            <tr>\n",
       "                        <th id=\"T_331ba0fe_862f_11e9_b51c_0028f8e12db4level0_row5\" class=\"row_heading level0 row5\" >free sulfur dioxide</th>\n",
       "                        <td id=\"T_331ba0fe_862f_11e9_b51c_0028f8e12db4row5_col0\" class=\"data row5 col0\" >-0.153794</td>\n",
       "                        <td id=\"T_331ba0fe_862f_11e9_b51c_0028f8e12db4row5_col1\" class=\"data row5 col1\" >-0.0105038</td>\n",
       "                        <td id=\"T_331ba0fe_862f_11e9_b51c_0028f8e12db4row5_col2\" class=\"data row5 col2\" >-0.0609781</td>\n",
       "                        <td id=\"T_331ba0fe_862f_11e9_b51c_0028f8e12db4row5_col3\" class=\"data row5 col3\" >0.187049</td>\n",
       "                        <td id=\"T_331ba0fe_862f_11e9_b51c_0028f8e12db4row5_col4\" class=\"data row5 col4\" >0.00556215</td>\n",
       "                        <td id=\"T_331ba0fe_862f_11e9_b51c_0028f8e12db4row5_col5\" class=\"data row5 col5\" >1</td>\n",
       "                        <td id=\"T_331ba0fe_862f_11e9_b51c_0028f8e12db4row5_col6\" class=\"data row5 col6\" >0.667666</td>\n",
       "                        <td id=\"T_331ba0fe_862f_11e9_b51c_0028f8e12db4row5_col7\" class=\"data row5 col7\" >-0.0219458</td>\n",
       "                        <td id=\"T_331ba0fe_862f_11e9_b51c_0028f8e12db4row5_col8\" class=\"data row5 col8\" >0.0703775</td>\n",
       "                        <td id=\"T_331ba0fe_862f_11e9_b51c_0028f8e12db4row5_col9\" class=\"data row5 col9\" >0.0516576</td>\n",
       "                        <td id=\"T_331ba0fe_862f_11e9_b51c_0028f8e12db4row5_col10\" class=\"data row5 col10\" >-0.0694084</td>\n",
       "                        <td id=\"T_331ba0fe_862f_11e9_b51c_0028f8e12db4row5_col11\" class=\"data row5 col11\" >-0.0506561</td>\n",
       "            </tr>\n",
       "            <tr>\n",
       "                        <th id=\"T_331ba0fe_862f_11e9_b51c_0028f8e12db4level0_row6\" class=\"row_heading level0 row6\" >total sulfur dioxide</th>\n",
       "                        <td id=\"T_331ba0fe_862f_11e9_b51c_0028f8e12db4row6_col0\" class=\"data row6 col0\" >-0.113181</td>\n",
       "                        <td id=\"T_331ba0fe_862f_11e9_b51c_0028f8e12db4row6_col1\" class=\"data row6 col1\" >0.07647</td>\n",
       "                        <td id=\"T_331ba0fe_862f_11e9_b51c_0028f8e12db4row6_col2\" class=\"data row6 col2\" >0.035533</td>\n",
       "                        <td id=\"T_331ba0fe_862f_11e9_b51c_0028f8e12db4row6_col3\" class=\"data row6 col3\" >0.203028</td>\n",
       "                        <td id=\"T_331ba0fe_862f_11e9_b51c_0028f8e12db4row6_col4\" class=\"data row6 col4\" >0.0474005</td>\n",
       "                        <td id=\"T_331ba0fe_862f_11e9_b51c_0028f8e12db4row6_col5\" class=\"data row6 col5\" >0.667666</td>\n",
       "                        <td id=\"T_331ba0fe_862f_11e9_b51c_0028f8e12db4row6_col6\" class=\"data row6 col6\" >1</td>\n",
       "                        <td id=\"T_331ba0fe_862f_11e9_b51c_0028f8e12db4row6_col7\" class=\"data row6 col7\" >0.0712695</td>\n",
       "                        <td id=\"T_331ba0fe_862f_11e9_b51c_0028f8e12db4row6_col8\" class=\"data row6 col8\" >-0.0664946</td>\n",
       "                        <td id=\"T_331ba0fe_862f_11e9_b51c_0028f8e12db4row6_col9\" class=\"data row6 col9\" >0.0429468</td>\n",
       "                        <td id=\"T_331ba0fe_862f_11e9_b51c_0028f8e12db4row6_col10\" class=\"data row6 col10\" >-0.205654</td>\n",
       "                        <td id=\"T_331ba0fe_862f_11e9_b51c_0028f8e12db4row6_col11\" class=\"data row6 col11\" >-0.1851</td>\n",
       "            </tr>\n",
       "            <tr>\n",
       "                        <th id=\"T_331ba0fe_862f_11e9_b51c_0028f8e12db4level0_row7\" class=\"row_heading level0 row7\" >density</th>\n",
       "                        <td id=\"T_331ba0fe_862f_11e9_b51c_0028f8e12db4row7_col0\" class=\"data row7 col0\" >0.668047</td>\n",
       "                        <td id=\"T_331ba0fe_862f_11e9_b51c_0028f8e12db4row7_col1\" class=\"data row7 col1\" >0.0220262</td>\n",
       "                        <td id=\"T_331ba0fe_862f_11e9_b51c_0028f8e12db4row7_col2\" class=\"data row7 col2\" >0.364947</td>\n",
       "                        <td id=\"T_331ba0fe_862f_11e9_b51c_0028f8e12db4row7_col3\" class=\"data row7 col3\" >0.355283</td>\n",
       "                        <td id=\"T_331ba0fe_862f_11e9_b51c_0028f8e12db4row7_col4\" class=\"data row7 col4\" >0.200632</td>\n",
       "                        <td id=\"T_331ba0fe_862f_11e9_b51c_0028f8e12db4row7_col5\" class=\"data row7 col5\" >-0.0219458</td>\n",
       "                        <td id=\"T_331ba0fe_862f_11e9_b51c_0028f8e12db4row7_col6\" class=\"data row7 col6\" >0.0712695</td>\n",
       "                        <td id=\"T_331ba0fe_862f_11e9_b51c_0028f8e12db4row7_col7\" class=\"data row7 col7\" >1</td>\n",
       "                        <td id=\"T_331ba0fe_862f_11e9_b51c_0028f8e12db4row7_col8\" class=\"data row7 col8\" >-0.341699</td>\n",
       "                        <td id=\"T_331ba0fe_862f_11e9_b51c_0028f8e12db4row7_col9\" class=\"data row7 col9\" >0.148506</td>\n",
       "                        <td id=\"T_331ba0fe_862f_11e9_b51c_0028f8e12db4row7_col10\" class=\"data row7 col10\" >-0.49618</td>\n",
       "                        <td id=\"T_331ba0fe_862f_11e9_b51c_0028f8e12db4row7_col11\" class=\"data row7 col11\" >-0.174919</td>\n",
       "            </tr>\n",
       "            <tr>\n",
       "                        <th id=\"T_331ba0fe_862f_11e9_b51c_0028f8e12db4level0_row8\" class=\"row_heading level0 row8\" >pH</th>\n",
       "                        <td id=\"T_331ba0fe_862f_11e9_b51c_0028f8e12db4row8_col0\" class=\"data row8 col0\" >-0.682978</td>\n",
       "                        <td id=\"T_331ba0fe_862f_11e9_b51c_0028f8e12db4row8_col1\" class=\"data row8 col1\" >0.234937</td>\n",
       "                        <td id=\"T_331ba0fe_862f_11e9_b51c_0028f8e12db4row8_col2\" class=\"data row8 col2\" >-0.541904</td>\n",
       "                        <td id=\"T_331ba0fe_862f_11e9_b51c_0028f8e12db4row8_col3\" class=\"data row8 col3\" >-0.0856524</td>\n",
       "                        <td id=\"T_331ba0fe_862f_11e9_b51c_0028f8e12db4row8_col4\" class=\"data row8 col4\" >-0.265026</td>\n",
       "                        <td id=\"T_331ba0fe_862f_11e9_b51c_0028f8e12db4row8_col5\" class=\"data row8 col5\" >0.0703775</td>\n",
       "                        <td id=\"T_331ba0fe_862f_11e9_b51c_0028f8e12db4row8_col6\" class=\"data row8 col6\" >-0.0664946</td>\n",
       "                        <td id=\"T_331ba0fe_862f_11e9_b51c_0028f8e12db4row8_col7\" class=\"data row8 col7\" >-0.341699</td>\n",
       "                        <td id=\"T_331ba0fe_862f_11e9_b51c_0028f8e12db4row8_col8\" class=\"data row8 col8\" >1</td>\n",
       "                        <td id=\"T_331ba0fe_862f_11e9_b51c_0028f8e12db4row8_col9\" class=\"data row8 col9\" >-0.196648</td>\n",
       "                        <td id=\"T_331ba0fe_862f_11e9_b51c_0028f8e12db4row8_col10\" class=\"data row8 col10\" >0.205633</td>\n",
       "                        <td id=\"T_331ba0fe_862f_11e9_b51c_0028f8e12db4row8_col11\" class=\"data row8 col11\" >-0.0577314</td>\n",
       "            </tr>\n",
       "            <tr>\n",
       "                        <th id=\"T_331ba0fe_862f_11e9_b51c_0028f8e12db4level0_row9\" class=\"row_heading level0 row9\" >sulphates</th>\n",
       "                        <td id=\"T_331ba0fe_862f_11e9_b51c_0028f8e12db4row9_col0\" class=\"data row9 col0\" >0.183006</td>\n",
       "                        <td id=\"T_331ba0fe_862f_11e9_b51c_0028f8e12db4row9_col1\" class=\"data row9 col1\" >-0.260987</td>\n",
       "                        <td id=\"T_331ba0fe_862f_11e9_b51c_0028f8e12db4row9_col2\" class=\"data row9 col2\" >0.31277</td>\n",
       "                        <td id=\"T_331ba0fe_862f_11e9_b51c_0028f8e12db4row9_col3\" class=\"data row9 col3\" >0.00552712</td>\n",
       "                        <td id=\"T_331ba0fe_862f_11e9_b51c_0028f8e12db4row9_col4\" class=\"data row9 col4\" >0.37126</td>\n",
       "                        <td id=\"T_331ba0fe_862f_11e9_b51c_0028f8e12db4row9_col5\" class=\"data row9 col5\" >0.0516576</td>\n",
       "                        <td id=\"T_331ba0fe_862f_11e9_b51c_0028f8e12db4row9_col6\" class=\"data row9 col6\" >0.0429468</td>\n",
       "                        <td id=\"T_331ba0fe_862f_11e9_b51c_0028f8e12db4row9_col7\" class=\"data row9 col7\" >0.148506</td>\n",
       "                        <td id=\"T_331ba0fe_862f_11e9_b51c_0028f8e12db4row9_col8\" class=\"data row9 col8\" >-0.196648</td>\n",
       "                        <td id=\"T_331ba0fe_862f_11e9_b51c_0028f8e12db4row9_col9\" class=\"data row9 col9\" >1</td>\n",
       "                        <td id=\"T_331ba0fe_862f_11e9_b51c_0028f8e12db4row9_col10\" class=\"data row9 col10\" >0.0935948</td>\n",
       "                        <td id=\"T_331ba0fe_862f_11e9_b51c_0028f8e12db4row9_col11\" class=\"data row9 col11\" >0.251397</td>\n",
       "            </tr>\n",
       "            <tr>\n",
       "                        <th id=\"T_331ba0fe_862f_11e9_b51c_0028f8e12db4level0_row10\" class=\"row_heading level0 row10\" >alcohol</th>\n",
       "                        <td id=\"T_331ba0fe_862f_11e9_b51c_0028f8e12db4row10_col0\" class=\"data row10 col0\" >-0.0616683</td>\n",
       "                        <td id=\"T_331ba0fe_862f_11e9_b51c_0028f8e12db4row10_col1\" class=\"data row10 col1\" >-0.202288</td>\n",
       "                        <td id=\"T_331ba0fe_862f_11e9_b51c_0028f8e12db4row10_col2\" class=\"data row10 col2\" >0.109903</td>\n",
       "                        <td id=\"T_331ba0fe_862f_11e9_b51c_0028f8e12db4row10_col3\" class=\"data row10 col3\" >0.0420754</td>\n",
       "                        <td id=\"T_331ba0fe_862f_11e9_b51c_0028f8e12db4row10_col4\" class=\"data row10 col4\" >-0.221141</td>\n",
       "                        <td id=\"T_331ba0fe_862f_11e9_b51c_0028f8e12db4row10_col5\" class=\"data row10 col5\" >-0.0694084</td>\n",
       "                        <td id=\"T_331ba0fe_862f_11e9_b51c_0028f8e12db4row10_col6\" class=\"data row10 col6\" >-0.205654</td>\n",
       "                        <td id=\"T_331ba0fe_862f_11e9_b51c_0028f8e12db4row10_col7\" class=\"data row10 col7\" >-0.49618</td>\n",
       "                        <td id=\"T_331ba0fe_862f_11e9_b51c_0028f8e12db4row10_col8\" class=\"data row10 col8\" >0.205633</td>\n",
       "                        <td id=\"T_331ba0fe_862f_11e9_b51c_0028f8e12db4row10_col9\" class=\"data row10 col9\" >0.0935948</td>\n",
       "                        <td id=\"T_331ba0fe_862f_11e9_b51c_0028f8e12db4row10_col10\" class=\"data row10 col10\" >1</td>\n",
       "                        <td id=\"T_331ba0fe_862f_11e9_b51c_0028f8e12db4row10_col11\" class=\"data row10 col11\" >0.476166</td>\n",
       "            </tr>\n",
       "            <tr>\n",
       "                        <th id=\"T_331ba0fe_862f_11e9_b51c_0028f8e12db4level0_row11\" class=\"row_heading level0 row11\" >quality</th>\n",
       "                        <td id=\"T_331ba0fe_862f_11e9_b51c_0028f8e12db4row11_col0\" class=\"data row11 col0\" >0.124052</td>\n",
       "                        <td id=\"T_331ba0fe_862f_11e9_b51c_0028f8e12db4row11_col1\" class=\"data row11 col1\" >-0.390558</td>\n",
       "                        <td id=\"T_331ba0fe_862f_11e9_b51c_0028f8e12db4row11_col2\" class=\"data row11 col2\" >0.226373</td>\n",
       "                        <td id=\"T_331ba0fe_862f_11e9_b51c_0028f8e12db4row11_col3\" class=\"data row11 col3\" >0.0137316</td>\n",
       "                        <td id=\"T_331ba0fe_862f_11e9_b51c_0028f8e12db4row11_col4\" class=\"data row11 col4\" >-0.128907</td>\n",
       "                        <td id=\"T_331ba0fe_862f_11e9_b51c_0028f8e12db4row11_col5\" class=\"data row11 col5\" >-0.0506561</td>\n",
       "                        <td id=\"T_331ba0fe_862f_11e9_b51c_0028f8e12db4row11_col6\" class=\"data row11 col6\" >-0.1851</td>\n",
       "                        <td id=\"T_331ba0fe_862f_11e9_b51c_0028f8e12db4row11_col7\" class=\"data row11 col7\" >-0.174919</td>\n",
       "                        <td id=\"T_331ba0fe_862f_11e9_b51c_0028f8e12db4row11_col8\" class=\"data row11 col8\" >-0.0577314</td>\n",
       "                        <td id=\"T_331ba0fe_862f_11e9_b51c_0028f8e12db4row11_col9\" class=\"data row11 col9\" >0.251397</td>\n",
       "                        <td id=\"T_331ba0fe_862f_11e9_b51c_0028f8e12db4row11_col10\" class=\"data row11 col10\" >0.476166</td>\n",
       "                        <td id=\"T_331ba0fe_862f_11e9_b51c_0028f8e12db4row11_col11\" class=\"data row11 col11\" >1</td>\n",
       "            </tr>\n",
       "    </tbody></table>"
      ],
      "text/plain": [
       "<pandas.io.formats.style.Styler at 0x1f7fbe8d1d0>"
      ]
     },
     "execution_count": 4,
     "metadata": {},
     "output_type": "execute_result"
    }
   ],
   "source": [
    "corr = data.corr()\n",
    "corr.style.background_gradient(cmap='coolwarm')"
   ]
  },
  {
   "cell_type": "markdown",
   "metadata": {
    "collapsed": true
   },
   "source": [
    "We can see that the variables that are the most correlated to quality are alcohol, volatile acidity, and total sulfur dioxide.\n",
    "We will use this three variables for our model, and we will try to determine if a relationship between those variables exists in our regression."
   ]
  },
  {
   "cell_type": "code",
   "execution_count": 5,
   "metadata": {},
   "outputs": [],
   "source": [
    "df =data[[\"quality\",\"volatile acidity\", \"alcohol\", \"total sulfur dioxide\"]]"
   ]
  },
  {
   "cell_type": "code",
   "execution_count": 6,
   "metadata": {},
   "outputs": [
    {
     "data": {
      "text/plain": [
       "<matplotlib.axes._subplots.AxesSubplot at 0x1f7fbe89978>"
      ]
     },
     "execution_count": 6,
     "metadata": {},
     "output_type": "execute_result"
    },
    {
     "data": {
      "image/png": "[encoded data removed]",
      "text/plain": [
       "<Figure size 432x288 with 1 Axes>"
      ]
     },
     "metadata": {
      "needs_background": "light"
     },
     "output_type": "display_data"
    }
   ],
   "source": [
    "sns.barplot(x= df[\"quality\"], y=df[\"quality\"])"
   ]
  },
  {
   "cell_type": "markdown",
   "metadata": {},
   "source": [
    "Even though the wine dataset states that quality ranges from 0 to 10, it is actually from 3 to 8."
   ]
  },
  {
   "cell_type": "code",
   "execution_count": 7,
   "metadata": {},
   "outputs": [
    {
     "data": {
      "text/plain": [
       "<matplotlib.axes._subplots.AxesSubplot at 0x1f7fc1fdc18>"
      ]
     },
     "execution_count": 7,
     "metadata": {},
     "output_type": "execute_result"
    },
    {
     "data": {
      "image/png": "[encoded data removed]",
      "text/plain": [
       "<Figure size 432x288 with 1 Axes>"
      ]
     },
     "metadata": {
      "needs_background": "light"
     },
     "output_type": "display_data"
    }
   ],
   "source": [
    "sns.barplot(x= df[\"quality\"], y=df[\"alcohol\"])"
   ]
  },
  {
   "cell_type": "code",
   "execution_count": 8,
   "metadata": {},
   "outputs": [
    {
     "data": {
      "text/plain": [
       "<matplotlib.axes._subplots.AxesSubplot at 0x1f7fc292240>"
      ]
     },
     "execution_count": 8,
     "metadata": {},
     "output_type": "execute_result"
    },
    {
     "data": {
      "image/png": "[encoded data removed]",
      "text/plain": [
       "<Figure size 432x288 with 1 Axes>"
      ]
     },
     "metadata": {
      "needs_background": "light"
     },
     "output_type": "display_data"
    }
   ],
   "source": [
    "sns.barplot(x= df[\"quality\"], y=df[\"volatile acidity\"])"
   ]
  },
  {
   "cell_type": "code",
   "execution_count": 9,
   "metadata": {},
   "outputs": [
    {
     "data": {
      "text/plain": [
       "<matplotlib.axes._subplots.AxesSubplot at 0x1f7fc2f42b0>"
      ]
     },
     "execution_count": 9,
     "metadata": {},
     "output_type": "execute_result"
    },
    {
     "data": {
      "image/png": "[encoded data removed]",
      "text/plain": [
       "<Figure size 432x288 with 1 Axes>"
      ]
     },
     "metadata": {
      "needs_background": "light"
     },
     "output_type": "display_data"
    }
   ],
   "source": [
    "sns.barplot(x= df[\"quality\"], y=df[\"total sulfur dioxide\"])"
   ]
  },
  {
   "cell_type": "markdown",
   "metadata": {},
   "source": [
    "## Generating the polynomial model\n",
    "We will transform our subset dataset into a numpy matrix. "
   ]
  },
  {
   "cell_type": "code",
   "execution_count": 22,
   "metadata": {},
   "outputs": [
    {
     "name": "stderr",
     "output_type": "stream",
     "text": [
      "C:\\Users\\jctep\\Anaconda3\\lib\\site-packages\\ipykernel_launcher.py:1: SettingWithCopyWarning: \n",
      "A value is trying to be set on a copy of a slice from a DataFrame.\n",
      "Try using .loc[row_indexer,col_indexer] = value instead\n",
      "\n",
      "See the caveats in the documentation: http://pandas.pydata.org/pandas-docs/stable/indexing.html#indexing-view-versus-copy\n",
      "  \"\"\"Entry point for launching an IPython kernel.\n",
      "C:\\Users\\jctep\\Anaconda3\\lib\\site-packages\\ipykernel_launcher.py:2: SettingWithCopyWarning: \n",
      "A value is trying to be set on a copy of a slice from a DataFrame.\n",
      "Try using .loc[row_indexer,col_indexer] = value instead\n",
      "\n",
      "See the caveats in the documentation: http://pandas.pydata.org/pandas-docs/stable/indexing.html#indexing-view-versus-copy\n",
      "  \n"
     ]
    }
   ],
   "source": [
    "df[\"volatile_acidity*total_sulfur_dioxide\"] = df[\"volatile acidity\"]*df[\"total sulfur dioxide\"]\n",
    "df[\"alcohol*volatile_acidity\"]= df[\"volatile acidity\"]*df[\"alcohol\"]"
   ]
  },
  {
   "cell_type": "code",
   "execution_count": 23,
   "metadata": {},
   "outputs": [
    {
     "data": {
      "text/html": [
       "<div>\n",
       "<style scoped>\n",
       "    .dataframe tbody tr th:only-of-type {\n",
       "        vertical-align: middle;\n",
       "    }\n",
       "\n",
       "    .dataframe tbody tr th {\n",
       "        vertical-align: top;\n",
       "    }\n",
       "\n",
       "    .dataframe thead th {\n",
       "        text-align: right;\n",
       "    }\n",
       "</style>\n",
       "<table border=\"1\" class=\"dataframe\">\n",
       "  <thead>\n",
       "    <tr style=\"text-align: right;\">\n",
       "      <th></th>\n",
       "      <th>quality</th>\n",
       "      <th>volatile acidity</th>\n",
       "      <th>alcohol</th>\n",
       "      <th>total sulfur dioxide</th>\n",
       "      <th>volatile_acidity*total_sulfur_dioxide</th>\n",
       "      <th>alcohol*volatile_acidity</th>\n",
       "    </tr>\n",
       "  </thead>\n",
       "  <tbody>\n",
       "    <tr>\n",
       "      <th>0</th>\n",
       "      <td>5</td>\n",
       "      <td>0.70</td>\n",
       "      <td>9.4</td>\n",
       "      <td>34.0</td>\n",
       "      <td>23.80</td>\n",
       "      <td>6.580</td>\n",
       "    </tr>\n",
       "    <tr>\n",
       "      <th>1</th>\n",
       "      <td>5</td>\n",
       "      <td>0.88</td>\n",
       "      <td>9.8</td>\n",
       "      <td>67.0</td>\n",
       "      <td>58.96</td>\n",
       "      <td>8.624</td>\n",
       "    </tr>\n",
       "    <tr>\n",
       "      <th>2</th>\n",
       "      <td>5</td>\n",
       "      <td>0.76</td>\n",
       "      <td>9.8</td>\n",
       "      <td>54.0</td>\n",
       "      <td>41.04</td>\n",
       "      <td>7.448</td>\n",
       "    </tr>\n",
       "    <tr>\n",
       "      <th>3</th>\n",
       "      <td>6</td>\n",
       "      <td>0.28</td>\n",
       "      <td>9.8</td>\n",
       "      <td>60.0</td>\n",
       "      <td>16.80</td>\n",
       "      <td>2.744</td>\n",
       "    </tr>\n",
       "    <tr>\n",
       "      <th>4</th>\n",
       "      <td>5</td>\n",
       "      <td>0.70</td>\n",
       "      <td>9.4</td>\n",
       "      <td>34.0</td>\n",
       "      <td>23.80</td>\n",
       "      <td>6.580</td>\n",
       "    </tr>\n",
       "  </tbody>\n",
       "</table>\n",
       "</div>"
      ],
      "text/plain": [
       "   quality  volatile acidity  alcohol  total sulfur dioxide  \\\n",
       "0        5              0.70      9.4                  34.0   \n",
       "1        5              0.88      9.8                  67.0   \n",
       "2        5              0.76      9.8                  54.0   \n",
       "3        6              0.28      9.8                  60.0   \n",
       "4        5              0.70      9.4                  34.0   \n",
       "\n",
       "   volatile_acidity*total_sulfur_dioxide  alcohol*volatile_acidity  \n",
       "0                                  23.80                     6.580  \n",
       "1                                  58.96                     8.624  \n",
       "2                                  41.04                     7.448  \n",
       "3                                  16.80                     2.744  \n",
       "4                                  23.80                     6.580  "
      ]
     },
     "execution_count": 23,
     "metadata": {},
     "output_type": "execute_result"
    }
   ],
   "source": [
    "df.head()"
   ]
  },
  {
   "cell_type": "code",
   "execution_count": 12,
   "metadata": {},
   "outputs": [
    {
     "data": {
      "text/plain": [
       "(1599, 1)"
      ]
     },
     "execution_count": 12,
     "metadata": {},
     "output_type": "execute_result"
    }
   ],
   "source": [
    "x= df[[\"volatile acidity\", \"alcohol\", \"total sulfur dioxide\", \"volatile_acidity*total_sulfur_dioxide\"]].values\n",
    "y= df[\"quality\"].values\n",
    "y= y.reshape((y.size, 1))\n",
    "np.shape(y)"
   ]
  },
  {
   "cell_type": "markdown",
   "metadata": {},
   "source": [
    "# Test Code (Ignore)"
   ]
  },
  {
   "cell_type": "code",
   "execution_count": 93,
   "metadata": {},
   "outputs": [],
   "source": [
    "tf.reset_default_graph()"
   ]
  },
  {
   "cell_type": "code",
   "execution_count": 106,
   "metadata": {},
   "outputs": [],
   "source": [
    "#Hyperparameters\n",
    "#We add a new hyperparameter n that represents the order of the polynomial regression\n",
    "n = np.shape(x[1])[0]\n",
    "learning_rate = 0.0001\n",
    "training_epochs = 1000\n",
    "\n",
    "#placeholders\n",
    "\n",
    "##constantes y placeholders son nodos. por constantes nos referimos a informacion constante. \n",
    "## un placeholder es un nodo vacio, que toma valor hasta que en la sesion ejecutemos el grafo. \n",
    "X = tf.placeholder(tf.float64, name = \"Xs\", shape =[None,n]) \n",
    "Y = tf.placeholder(tf.float64, name = \"Y\", shape = [None,1])\n",
    "\n",
    "#trainable variables defined randomly\n",
    "#We define the shape of W because now we have n different weight in our regression.\n",
    "\n",
    "W = tf.Variable(np.random.randn(n,1), name = \"W\") \n",
    "b = tf.Variable(np.random.randn(1), name = \"b\")\n",
    "\n",
    "\n",
    "\n",
    "# Hypothesis \n",
    "with tf.name_scope(\"Hipotesis\"):\n",
    "    #y_pred = tf.add(tf.multiply(X, W), b, name = \"Hipotesis_producto_punto\") \n",
    "    y_pred=tf.add(tf.matmul(X,W),b, name=\"Hipotesis_producto_punto\")\n",
    "\n",
    "with tf.name_scope(\"Cost_func\"):\n",
    "    #Mean Squared Error Cost Function \n",
    "    #cost = tf.reduce_sum(tf.pow(y_pred-Y, 2)) / (2 * n) \n",
    "    cost = tf.reduce_mean(tf.square(y_pred -Y ))\n",
    "  \n",
    "#Gradient Descent Optimizer \n",
    "with tf.name_scope(\"Optimizer\"):\n",
    "    optimizer = tf.train.GradientDescentOptimizer(learning_rate).minimize(cost) \n",
    "  \n",
    "#Global Variables Initializer \n",
    "init = tf.global_variables_initializer() \n",
    "\n",
    "with tf.name_scope(\"Disturbance\"):\n",
    "    disturbance = tf.summary.scalar(name = \"Costfunction\", tensor = cost)"
   ]
  },
  {
   "cell_type": "code",
   "execution_count": 111,
   "metadata": {},
   "outputs": [
    {
     "name": "stdout",
     "output_type": "stream",
     "text": [
      "Training cost = 0.6002735736648765 Weight = [[-1.71105802]\n",
      " [ 0.69727848]\n",
      " [-0.00681957]\n",
      " [ 0.01662467]] bias = [-0.86353404] \n",
      "\n"
     ]
    }
   ],
   "source": [
    "\n",
    "#iniciar sesion\n",
    "with tf.Session() as sess: \n",
    "    \n",
    "      \n",
    "    \n",
    "    #ejecutar los nodos \n",
    "    sess.run(init)\n",
    "   \n",
    "   \n",
    "    writer = tf.summary.FileWriter( './pol_reg_graphs/test', sess.graph)\n",
    "    \n",
    "      \n",
    "    # Iterating through all the epochs \n",
    "    for epoch in range(training_epochs): \n",
    "          \n",
    "        # Feeding each data point into the optimizer using Feed Dictionary \n",
    "\n",
    "        sess.run(optimizer, feed_dict = {X : x, Y : y}) \n",
    "          \n",
    "        # Displaying the result after every 50 epochs \n",
    "        if (epoch + 1) % 50 == 0: \n",
    "            # Calculating the cost a every epoch \n",
    "            c = sess.run(disturbance, feed_dict = {X : x, Y : y}) \n",
    "            writer.add_summary(c,epoch)\n",
    "            #print(\"Epoch\", (epoch + 1), \": cost =\", c, \"W =\", sess.run(W), \"b =\", sess.run(b)) \n",
    "    \n",
    "    writer.close()\n",
    "    # Storing necessary values to be used outside the Session \n",
    "    training_cost = sess.run(cost, feed_dict ={X: x, Y: y}) \n",
    "    weight = sess.run(W) \n",
    "    bias = sess.run(b)\n",
    "\n",
    "\n",
    "    \n",
    "    "
   ]
  },
  {
   "cell_type": "code",
   "execution_count": 44,
   "metadata": {},
   "outputs": [],
   "source": [
    "def polynomial_regression(x_train,y_train,training_epochs,lr):\n",
    "    tf.reset_default_graph()\n",
    "    \n",
    "    #We define the shape of W because now we have n different weight in our regression.  \n",
    "    n = np.shape(x[1])[0]\n",
    "\n",
    "\n",
    "    #placeholders \n",
    "    X = tf.placeholder(tf.float64, name = \"Xs\", shape =[None,n]) \n",
    "    Y = tf.placeholder(tf.float64, name = \"Y\", shape = [None,1])\n",
    "\n",
    "    #trainable variables defined randomly\n",
    "\n",
    "\n",
    "    W = tf.Variable(np.random.randn(n,1), name = \"W\") \n",
    "    b = tf.Variable(np.random.randn(1), name = \"b\")\n",
    "\n",
    "    # Hypothesis \n",
    "    with tf.name_scope(\"Hipotesis\"):\n",
    "        #y_pred = tf.add(tf.multiply(X, W), b, name = \"Hipotesis_producto_punto\") \n",
    "        y_pred=tf.add(tf.matmul(X,W),b, name=\"Hipotesis_producto_punto\")\n",
    "\n",
    "    with tf.name_scope(\"Cost_func\"):\n",
    "        \n",
    "        #Mean Squared Error Cost Function \n",
    "        #cost = tf.reduce_sum(tf.pow(y_pred-Y, 2)) / (2 * n) \n",
    "        cost = tf.reduce_mean(tf.square(y_pred -Y ))\n",
    "\n",
    "    #Gradient Descent Optimizer \n",
    "    with tf.name_scope(\"Optimizer\"):\n",
    "        optimizer = tf.train.GradientDescentOptimizer(lr).minimize(cost) \n",
    "\n",
    "    #Global Variables Initializer \n",
    "    init = tf.global_variables_initializer() \n",
    "\n",
    "    with tf.name_scope(\"Disturbance\"):\n",
    "        disturbance = tf.summary.scalar(name = \"Costfunction\", tensor = cost)\n",
    "        \n",
    "\n",
    "        #iniciar sesion\n",
    "    with tf.Session() as sess: \n",
    "\n",
    "\n",
    "\n",
    "        #ejecutar los nodos \n",
    "        sess.run(init)\n",
    "\n",
    "\n",
    "        writer = tf.summary.FileWriter( './pol_reg_graphs/'+str(lr), sess.graph)\n",
    "\n",
    "\n",
    "        # Iterating through all the epochs \n",
    "        for epoch in range(training_epochs): \n",
    "\n",
    "            # Feeding each data point into the optimizer using Feed Dictionary \n",
    "\n",
    "            sess.run(optimizer, feed_dict = {X : x_train, Y : y_train}) \n",
    "\n",
    "            # Displaying the result after every 50 epochs \n",
    "            if (epoch + 1) % 50 == 0: \n",
    "                # Calculating the cost a every epoch \n",
    "                c = sess.run(disturbance, feed_dict = {X : x_train, Y : y_train}) \n",
    "                writer.add_summary(c,epoch)\n",
    "                #print(\"Epoch\", (epoch + 1), \": cost =\", c, \"W =\", sess.run(W), \"b =\", sess.run(b)) \n",
    "\n",
    "        writer.close()\n",
    "        \n",
    "    # Storing necessary values to be used outside the Session \n",
    "        training_cost = sess.run(cost, feed_dict ={X: x_train, Y: y_train}) \n",
    "        weight = sess.run(W) \n",
    "        bias = sess.run(b)\n",
    "        \n",
    "        predictions =np.matmul(x,weight) + bias\n",
    "        print(\"Training cost =\", training_cost, \"Weight =\", weight, \"bias =\", bias, '\\n')\n",
    "        \n",
    "    print(\"polynomial regression with learning rate \" +str(lr))\n",
    "    print(\"error cost function graph stored at ./pol_reg_graphs/'\"+str(lr))\n",
    "    #print(\"Training cost =\", training_cost, \"Weight =\", weight, \"bias =\", bias, '\\n')    \n",
    "    #predictions =np.matmul(x,weight) + bias\n",
    "    sess.close()\n",
    "     "
   ]
  },
  {
   "cell_type": "markdown",
   "metadata": {},
   "source": [
    "# TensorFlow Graph of Polynomial Model \n",
    "\n",
    "<img src=\"./error_graphs/grafo.png\" />"
   ]
  },
  {
   "cell_type": "markdown",
   "metadata": {},
   "source": [
    "# First Model \n",
    "\n",
    "Polynomial regression for the first model ran at different learning rates."
   ]
  },
  {
   "cell_type": "code",
   "execution_count": 45,
   "metadata": {},
   "outputs": [
    {
     "name": "stdout",
     "output_type": "stream",
     "text": [
      "Training cost = nan Weight = [[nan]\n",
      " [nan]\n",
      " [nan]\n",
      " [nan]] bias = [nan] \n",
      "\n",
      "polynomial regression with learning rate 1\n",
      "error cost function graph stored at ./pol_reg_graphs/'1\n"
     ]
    }
   ],
   "source": [
    "x= df[[\"volatile acidity\", \"alcohol\", \"total sulfur dioxide\", \"volatile_acidity*total_sulfur_dioxide\"]].values\n",
    "y= df[\"quality\"].values\n",
    "y= y.reshape((y.size, 1))\n",
    "\n",
    "polynomial_regression(x_train=x,y_train=y,lr=1,training_epochs=1000)\n"
   ]
  },
  {
   "cell_type": "code",
   "execution_count": 17,
   "metadata": {},
   "outputs": [
    {
     "name": "stdout",
     "output_type": "stream",
     "text": [
      "Training cost = nan Weight = [[nan]\n",
      " [nan]\n",
      " [nan]\n",
      " [nan]] bias = [nan] \n",
      "\n",
      "polynomial regression with learning rate 0.1\n",
      "error cost function graph stored at ./pol_reg_graphs/'0.1\n"
     ]
    }
   ],
   "source": [
    "polynomial_regression(x_train=x,y_train=y,lr=0.1,training_epochs=1000)"
   ]
  },
  {
   "cell_type": "code",
   "execution_count": 18,
   "metadata": {
    "scrolled": true
   },
   "outputs": [
    {
     "name": "stdout",
     "output_type": "stream",
     "text": [
      "Training cost = nan Weight = [[nan]\n",
      " [nan]\n",
      " [nan]\n",
      " [nan]] bias = [nan] \n",
      "\n",
      "polynomial regression with learning rate 0.01\n",
      "error cost function graph stored at ./pol_reg_graphs/'0.01\n"
     ]
    }
   ],
   "source": [
    "polynomial_regression(x_train=x,y_train=y,lr=0.01,training_epochs=1000)"
   ]
  },
  {
   "cell_type": "code",
   "execution_count": 19,
   "metadata": {},
   "outputs": [
    {
     "name": "stdout",
     "output_type": "stream",
     "text": [
      "Training cost = nan Weight = [[nan]\n",
      " [nan]\n",
      " [nan]\n",
      " [nan]] bias = [nan] \n",
      "\n",
      "polynomial regression with learning rate 0.001\n",
      "error cost function graph stored at ./pol_reg_graphs/'0.001\n"
     ]
    }
   ],
   "source": [
    "polynomial_regression(x_train=x,y_train=y,lr=0.001,training_epochs=1000)"
   ]
  },
  {
   "cell_type": "code",
   "execution_count": 20,
   "metadata": {},
   "outputs": [
    {
     "name": "stdout",
     "output_type": "stream",
     "text": [
      "Training cost = 0.47204824056753814 Weight = [[-8.23303761e-01]\n",
      " [ 4.58890839e-01]\n",
      " [-5.27696153e-04]\n",
      " [ 1.90962404e-05]] bias = [1.29704956] \n",
      "\n",
      "polynomial regression with learning rate 0.0001\n",
      "error cost function graph stored at ./pol_reg_graphs/'0.0001\n"
     ]
    }
   ],
   "source": [
    "polynomial_regression(x_train=x,y_train=y,lr=0.0001,training_epochs=1000)"
   ]
  },
  {
   "cell_type": "code",
   "execution_count": 21,
   "metadata": {},
   "outputs": [
    {
     "name": "stdout",
     "output_type": "stream",
     "text": [
      "Training cost = 4.976152224527184 Weight = [[-0.19076229]\n",
      " [ 0.47279009]\n",
      " [ 0.13115438]\n",
      " [-0.17830595]] bias = [-1.45243278] \n",
      "\n",
      "polynomial regression with learning rate 1e-05\n",
      "error cost function graph stored at ./pol_reg_graphs/'1e-05\n"
     ]
    }
   ],
   "source": [
    "polynomial_regression(x_train=x,y_train=y,lr=0.00001,training_epochs=1000)"
   ]
  },
  {
   "cell_type": "markdown",
   "metadata": {},
   "source": [
    "# 2nd model "
   ]
  },
  {
   "cell_type": "code",
   "execution_count": 41,
   "metadata": {},
   "outputs": [],
   "source": [
    "def polynomial_regression(x_train,y_train,training_epochs,lr):\n",
    "    tf.reset_default_graph()\n",
    "    \n",
    "    #We define the shape of W because now we have n different weight in our regression.  \n",
    "    n = np.shape(x[1])[0]\n",
    "\n",
    "\n",
    "    #placeholders \n",
    "    X = tf.placeholder(tf.float64, name = \"Xs\", shape =[None,n]) \n",
    "    Y = tf.placeholder(tf.float64, name = \"Y\", shape = [None,1])\n",
    "\n",
    "    #trainable variables defined randomly\n",
    "\n",
    "\n",
    "    W = tf.Variable(np.random.randn(n,1), name = \"W\") \n",
    "    b = tf.Variable(np.random.randn(1), name = \"b\")\n",
    "\n",
    "    # Hypothesis \n",
    "    with tf.name_scope(\"Hipotesis\"):\n",
    "        #y_pred = tf.add(tf.multiply(X, W), b, name = \"Hipotesis_producto_punto\") \n",
    "        y_pred=tf.add(tf.matmul(X,W),b, name=\"Hipotesis_producto_punto\")\n",
    "\n",
    "    with tf.name_scope(\"Cost_func\"):\n",
    "        \n",
    "        #Mean Squared Error Cost Function \n",
    "        #cost = tf.reduce_sum(tf.pow(y_pred-Y, 2)) / (2 * n) \n",
    "        cost = tf.reduce_mean(tf.square(y_pred -Y ))\n",
    "\n",
    "    #Gradient Descent Optimizer \n",
    "    with tf.name_scope(\"Optimizer\"):\n",
    "        optimizer = tf.train.GradientDescentOptimizer(lr).minimize(cost) \n",
    "\n",
    "    #Global Variables Initializer \n",
    "    init = tf.global_variables_initializer() \n",
    "\n",
    "    with tf.name_scope(\"Disturbance\"):\n",
    "        disturbance = tf.summary.scalar(name = \"Costfunction\", tensor = cost)\n",
    "        \n",
    "\n",
    "        #iniciar sesion\n",
    "    with tf.Session() as sess: \n",
    "\n",
    "\n",
    "\n",
    "        #ejecutar los nodos \n",
    "        sess.run(init)\n",
    "\n",
    "\n",
    "        writer = tf.summary.FileWriter( './pol_reg_graphs2/'+str(lr), sess.graph)\n",
    "\n",
    "\n",
    "        # Iterating through all the epochs \n",
    "        for epoch in range(training_epochs): \n",
    "\n",
    "            # Feeding each data point into the optimizer using Feed Dictionary \n",
    "\n",
    "            sess.run(optimizer, feed_dict = {X : x_train, Y : y_train}) \n",
    "\n",
    "            # Displaying the result after every 50 epochs \n",
    "            if (epoch + 1) % 50 == 0: \n",
    "                # Calculating the cost a every epoch \n",
    "                c = sess.run(disturbance, feed_dict = {X : x_train, Y : y_train}) \n",
    "                writer.add_summary(c,epoch)\n",
    "                #print(\"Epoch\", (epoch + 1), \": cost =\", c, \"W =\", sess.run(W), \"b =\", sess.run(b)) \n",
    "\n",
    "        writer.close()\n",
    "        \n",
    "    # Storing necessary values to be used outside the Session \n",
    "        training_cost = sess.run(cost, feed_dict ={X: x_train, Y: y_train}) \n",
    "        weight = sess.run(W) \n",
    "        bias = sess.run(b)\n",
    "        \n",
    "        predictions =np.matmul(x,weight) + bias\n",
    "        print(\"Training cost =\", training_cost, \"Weight =\", weight, \"bias =\", bias, '\\n')\n",
    "        \n",
    "    print(\"polynomial regression with learning rate \" +str(lr))\n",
    "    print(\"error cost function graph stored at ./pol_reg_graphs2/'\"+str(lr))\n",
    "    #print(\"Training cost =\", training_cost, \"Weight =\", weight, \"bias =\", bias, '\\n')    \n",
    "    #predictions =np.matmul(x,weight) + bias\n",
    "    sess.close()\n",
    "     "
   ]
  },
  {
   "cell_type": "code",
   "execution_count": 42,
   "metadata": {},
   "outputs": [
    {
     "name": "stdout",
     "output_type": "stream",
     "text": [
      "Training cost = nan Weight = [[nan]\n",
      " [nan]\n",
      " [nan]\n",
      " [nan]] bias = [nan] \n",
      "\n",
      "polynomial regression with learning rate 1\n",
      "error cost function graph stored at ./pol_reg_graphs2/'1\n"
     ]
    }
   ],
   "source": [
    "x= df[[\"volatile acidity\", \"alcohol\", \"total sulfur dioxide\", \"alcohol*volatile_acidity\"]].values\n",
    "y= df[\"quality\"].values\n",
    "y= y.reshape((y.size, 1))\n",
    "\n",
    "polynomial_regression(x_train=x,y_train=y,lr=1,training_epochs=1000)\n"
   ]
  },
  {
   "cell_type": "code",
   "execution_count": 43,
   "metadata": {},
   "outputs": [
    {
     "name": "stdout",
     "output_type": "stream",
     "text": [
      "Training cost = nan Weight = [[nan]\n",
      " [nan]\n",
      " [nan]\n",
      " [nan]] bias = [nan] \n",
      "\n",
      "polynomial regression with learning rate 0.1\n",
      "error cost function graph stored at ./pol_reg_graphs2/'0.1\n"
     ]
    }
   ],
   "source": [
    "polynomial_regression(x_train=x,y_train=y,lr=0.1,training_epochs=1000)"
   ]
  },
  {
   "cell_type": "code",
   "execution_count": 37,
   "metadata": {},
   "outputs": [
    {
     "name": "stdout",
     "output_type": "stream",
     "text": [
      "Training cost = nan Weight = [[nan]\n",
      " [nan]\n",
      " [nan]\n",
      " [nan]] bias = [nan] \n",
      "\n",
      "polynomial regression with learning rate 0.01\n",
      "error cost function graph stored at ./pol_reg_graphs2/'0.01\n"
     ]
    }
   ],
   "source": [
    "polynomial_regression(x_train=x,y_train=y,lr=0.01,training_epochs=1000)"
   ]
  },
  {
   "cell_type": "code",
   "execution_count": 38,
   "metadata": {},
   "outputs": [
    {
     "name": "stdout",
     "output_type": "stream",
     "text": [
      "Training cost = nan Weight = [[nan]\n",
      " [nan]\n",
      " [nan]\n",
      " [nan]] bias = [nan] \n",
      "\n",
      "polynomial regression with learning rate 0.001\n",
      "error cost function graph stored at ./pol_reg_graphs2/'0.001\n"
     ]
    }
   ],
   "source": [
    "polynomial_regression(x_train=x,y_train=y,lr=0.001,training_epochs=1000)"
   ]
  },
  {
   "cell_type": "code",
   "execution_count": 39,
   "metadata": {},
   "outputs": [
    {
     "name": "stdout",
     "output_type": "stream",
     "text": [
      "Training cost = 0.5288838744040257 Weight = [[-1.21692559e+00]\n",
      " [ 5.50433830e-01]\n",
      " [-3.51905014e-05]\n",
      " [-1.12301968e-01]] bias = [1.15017639] \n",
      "\n",
      "polynomial regression with learning rate 0.0001\n",
      "error cost function graph stored at ./pol_reg_graphs2/'0.0001\n"
     ]
    }
   ],
   "source": [
    "polynomial_regression(x_train=x,y_train=y,lr=0.0001,training_epochs=1000)"
   ]
  },
  {
   "cell_type": "code",
   "execution_count": 40,
   "metadata": {},
   "outputs": [
    {
     "name": "stdout",
     "output_type": "stream",
     "text": [
      "Training cost = 1.6395828351686654 Weight = [[-1.1361881 ]\n",
      " [ 0.80470784]\n",
      " [-0.00913104]\n",
      " [-0.51512847]] bias = [1.3275733] \n",
      "\n",
      "polynomial regression with learning rate 1e-05\n",
      "error cost function graph stored at ./pol_reg_graphs2/'1e-05\n"
     ]
    }
   ],
   "source": [
    "polynomial_regression(x_train=x,y_train=y,lr=0.00001,training_epochs=1000)"
   ]
  },
  {
   "cell_type": "markdown",
   "metadata": {},
   "source": [
    "# Results and Conclusions"
   ]
  },
  {
   "cell_type": "markdown",
   "metadata": {},
   "source": [
    "<img src=\"./error_graphs/er_1.png\" /> \n",
    "<img src=\"./error_graphs/er_2.png\" /> "
   ]
  },
  {
   "cell_type": "markdown",
   "metadata": {},
   "source": [
    "For both models, using learning rates equal or higher than 0.001 resulted in not having an error function. For this particular problem, those values were too high.\n",
    "\n",
    "At a learning rate of 0.0001, both models start to converge to small values: 0.47204824056753814 and 0.7672364710153261 respectively.\n",
    "\n",
    "At a learning rate of 0.00001, both model errors increases. Of all the learning rates, 0.0001 gives the smallest training cost.\n",
    "\n",
    "As for models, we see a better performance for model 1, which has the interaction between volatile acidity and total sulfur dioxide. This is the optimal model for the variables tested."
   ]
  },
  {
   "cell_type": "code",
   "execution_count": null,
   "metadata": {},
   "outputs": [],
   "source": []
  }
 ],
 "metadata": {
  "kernelspec": {
   "display_name": "Python 3",
   "language": "python",
   "name": "python3"
  },
  "language_info": {
   "codemirror_mode": {
    "name": "ipython",
    "version": 3
   },
   "file_extension": ".py",
   "mimetype": "text/x-python",
   "name": "python",
   "nbconvert_exporter": "python",
   "pygments_lexer": "ipython3",
   "version": "3.7.3"
  }
 },
 "nbformat": 4,
 "nbformat_minor": 2
}
