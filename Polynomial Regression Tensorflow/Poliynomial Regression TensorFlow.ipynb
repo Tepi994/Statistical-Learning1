{
 "cells": [
  {
   "cell_type": "markdown",
   "metadata": {},
   "source": [
    "# Polynomial Regression using Gradient Descent with TensorFlow"
   ]
  },
  {
   "cell_type": "code",
   "execution_count": 1,
   "metadata": {},
   "outputs": [],
   "source": [
    "import numpy as np \n",
    "import tensorflow as tf \n",
    "import matplotlib.pyplot as plt "
   ]
  },
  {
   "cell_type": "code",
   "execution_count": 154,
   "metadata": {},
   "outputs": [],
   "source": [
    "np.random.seed(1) \n",
    "tf.set_random_seed(1) "
   ]
  },
  {
   "cell_type": "code",
   "execution_count": 155,
   "metadata": {},
   "outputs": [],
   "source": [
    "ds = np.load(\"proyecto_training_data.npy\")"
   ]
  },
  {
   "cell_type": "code",
   "execution_count": 156,
   "metadata": {},
   "outputs": [
    {
     "name": "stdout",
     "output_type": "stream",
     "text": [
      "(1168, 6)\n"
     ]
    }
   ],
   "source": [
    "### First 80% of dataset used as training set\n",
    "ds_train = ds[:int(len(ds)*0.8),0:7]\n",
    "print(np.shape(ds_train))"
   ]
  },
  {
   "cell_type": "code",
   "execution_count": 157,
   "metadata": {},
   "outputs": [
    {
     "data": {
      "text/plain": [
       "1168"
      ]
     },
     "execution_count": 157,
     "metadata": {},
     "output_type": "execute_result"
    }
   ],
   "source": [
    "len(ds_train)"
   ]
  },
  {
   "cell_type": "code",
   "execution_count": 158,
   "metadata": {},
   "outputs": [
    {
     "name": "stdout",
     "output_type": "stream",
     "text": [
      "(292, 6)\n"
     ]
    }
   ],
   "source": [
    "## Last 20% of dataset used as test set. \n",
    "ds_test = ds[int(len(ds)*0.8):int(len(ds)),0:7]\n",
    "print(np.shape(ds_test))"
   ]
  },
  {
   "cell_type": "markdown",
   "metadata": {},
   "source": [
    "In order to the polynomial to run, y has to be of shape (1168,1). "
   ]
  },
  {
   "cell_type": "code",
   "execution_count": 166,
   "metadata": {},
   "outputs": [
    {
     "data": {
      "text/plain": [
       "(1168, 1)"
      ]
     },
     "execution_count": 166,
     "metadata": {},
     "output_type": "execute_result"
    }
   ],
   "source": [
    "x= ds_train[:,1]\n",
    "y= ds_train[:,0]\n",
    "y= y.reshape((y.size, 1))\n",
    "np.shape(y)"
   ]
  },
  {
   "cell_type": "code",
   "execution_count": 212,
   "metadata": {},
   "outputs": [],
   "source": [
    "tf.reset_default_graph()"
   ]
  },
  {
   "cell_type": "code",
   "execution_count": 219,
   "metadata": {},
   "outputs": [],
   "source": [
    "#Hyperparameters\n",
    "#We add a new hyperparameter n that represents the order of the polynomial regression\n",
    "n = 3\n",
    "learning_rate = 0.01\n",
    "training_epochs = 1000\n",
    "\n",
    "#placeholders\n",
    "\n",
    "##constantes y placeholders son nodos. por constantes nos referimos a informacion constante. \n",
    "## un placeholder es un nodo vacio, que toma valor hasta que en la sesion ejecutemos el grafo. \n",
    "X = tf.placeholder(tf.float64, name = \"Xs\", shape =[None,n]) \n",
    "Y = tf.placeholder(tf.float64, name = \"Y\", shape = [None,1])\n",
    "\n",
    "#trainable variables defined randomly\n",
    "#We define the shape of W because now we have n different weight in our regression.\n",
    "\n",
    "W = tf.Variable(np.random.randn(n,1), name = \"W\") \n",
    "b = tf.Variable(np.random.randn(1), name = \"b\")\n",
    "\n",
    "\n",
    "\n",
    "# Hypothesis \n",
    "with tf.name_scope(\"Hipotesis\"):\n",
    "    #y_pred = tf.add(tf.multiply(X, W), b, name = \"Hipotesis_producto_punto\") \n",
    "    y_pred=tf.add(tf.matmul(X,W),b, name\"Hipotesis_producto_punto\")\n",
    "\n",
    "with tf.name_scope(\"Cost_func\"):\n",
    "    #Mean Squared Error Cost Function \n",
    "    #cost = tf.reduce_sum(tf.pow(y_pred-Y, 2)) / (2 * n) \n",
    "    cost = tf.reduce_mean(tf.square(y_pred -Y ))\n",
    "  \n",
    "#Gradient Descent Optimizer \n",
    "with tf.name_scope(\"Optimizer\"):\n",
    "    optimizer = tf.train.GradientDescentOptimizer(learning_rate).minimize(cost) \n",
    "  \n",
    "#Global Variables Initializer \n",
    "init = tf.global_variables_initializer() \n",
    "\n",
    "with tf.name_scope(\"Disturbance\"):\n",
    "    disturbance = tf.summary.scalar(name = \"Costfunction\", tensor = cost)"
   ]
  },
  {
   "cell_type": "markdown",
   "metadata": {},
   "source": [
    "## Preparing the data: generating the powers of x"
   ]
  },
  {
   "cell_type": "code",
   "execution_count": 220,
   "metadata": {},
   "outputs": [],
   "source": [
    "#preparing the data\n",
    "#This function takes as input the x variables and powers them to the degree of the polynomial\n",
    "# We use the hyperparameter later on to define the degree of polynomial.\n",
    "def modify_input(x,x_size,n_value):\n",
    "   x_new=np.zeros([x_size,n_value])    \n",
    "   for i in range(n):\n",
    "      x_new[:,i]=np.power(x,(i+1))\n",
    "      x_new[:,i]=x_new[:,i]/np.max(x_new[:,i])\n",
    "   return x_new\n",
    " "
   ]
  },
  {
   "cell_type": "code",
   "execution_count": 221,
   "metadata": {},
   "outputs": [
    {
     "data": {
      "text/plain": [
       "(1168, 3)"
      ]
     },
     "execution_count": 221,
     "metadata": {},
     "output_type": "execute_result"
    }
   ],
   "source": [
    "pol_x= modify_input(x,len(x),n)\n",
    "np.shape(pol_x)"
   ]
  },
  {
   "cell_type": "code",
   "execution_count": 222,
   "metadata": {
    "scrolled": false
   },
   "outputs": [],
   "source": [
    "\n",
    "# Starting the Tensorflow Session \n",
    "with tf.Session() as sess: \n",
    "    \n",
    "      \n",
    "    # Initializing the Variables \n",
    "    #ejecutar los nodos \n",
    "    sess.run(init)\n",
    "   \n",
    "   \n",
    "    writer = tf.summary.FileWriter( './pol_reg_graphs/lr_0.01', sess.graph)\n",
    "    \n",
    "      \n",
    "    # Iterating through all the epochs \n",
    "    for epoch in range(training_epochs): \n",
    "          \n",
    "        # Feeding each data point into the optimizer using Feed Dictionary \n",
    "\n",
    "        sess.run(optimizer, feed_dict = {X : pol_x, Y : y}) \n",
    "          \n",
    "        # Displaying the result after every 50 epochs \n",
    "        if (epoch + 1) % 50 == 0: \n",
    "            # Calculating the cost a every epoch \n",
    "            c = sess.run(disturbance, feed_dict = {X : pol_x, Y : y}) \n",
    "            writer.add_summary(c,epoch)\n",
    "            #print(\"Epoch\", (epoch + 1), \": cost =\", c, \"W =\", sess.run(W), \"b =\", sess.run(b)) \n",
    "    \n",
    "    writer.close()\n",
    "    # Storing necessary values to be used outside the Session \n",
    "    training_cost = sess.run(cost, feed_dict ={X: pol_x, Y: y}) \n",
    "    weight = sess.run(W) \n",
    "    bias = sess.run(b) \n",
    "    \n",
    "    "
   ]
  },
  {
   "cell_type": "code",
   "execution_count": 232,
   "metadata": {},
   "outputs": [
    {
     "name": "stdout",
     "output_type": "stream",
     "text": [
      "Training cost = 2214089421.6677814 Weight = [[ 97887.75186673]\n",
      " [109335.02586074]\n",
      " [106925.21819768]] bias = [51771.66266253] \n",
      "\n",
      "[[208500.]\n",
      " [181500.]\n",
      " [223500.]\n",
      " ...\n",
      " [233170.]\n",
      " [245350.]\n",
      " [173000.]] [[210542.6014828 ]\n",
      " [172960.77022313]\n",
      " [210542.6014828 ]\n",
      " ...\n",
      " [210542.6014828 ]\n",
      " [254801.992424  ]\n",
      " [172960.77022313]]\n"
     ]
    }
   ],
   "source": [
    "#Calculating the predictions \n",
    "predictions =np.matmul(pol_x,weight) + bias\n",
    "print(\"Training cost =\", training_cost, \"Weight =\", weight, \"bias =\", bias, '\\n') \n",
    "#print(np.shape(predictions), np.shape(y))\n",
    "#print(\"weight=\",np.shape(weight), \"pol_x =\", np.shape(pol_x), \"bias=\", np.shape(bias) )\n",
    "print(y,predictions)"
   ]
  },
  {
   "cell_type": "code",
   "execution_count": 238,
   "metadata": {},
   "outputs": [
    {
     "data": {
      "image/png": "[encoded data removed]",
      "text/plain": [
       "<Figure size 432x288 with 1 Axes>"
      ]
     },
     "metadata": {
      "needs_background": "light"
     },
     "output_type": "display_data"
    }
   ],
   "source": [
    "# Plotting the Results \n",
    "plt.plot(x, y, 'ro', label ='Original data') \n",
    "plt.plot(x,predictions, label ='Fitted line') \n",
    "plt.title('Linear Regression Result') \n",
    "plt.legend() \n",
    "plt.show() "
   ]
  },
  {
   "cell_type": "markdown",
   "metadata": {},
   "source": [
    "# Conclusions\n"
   ]
  },
  {
   "cell_type": "code",
   "execution_count": null,
   "metadata": {},
   "outputs": [],
   "source": []
  }
 ],
 "metadata": {
  "kernelspec": {
   "display_name": "Python 3",
   "language": "python",
   "name": "python3"
  },
  "language_info": {
   "codemirror_mode": {
    "name": "ipython",
    "version": 3
   },
   "file_extension": ".py",
   "mimetype": "text/x-python",
   "name": "python",
   "nbconvert_exporter": "python",
   "pygments_lexer": "ipython3",
   "version": "3.7.3"
  }
 },
 "nbformat": 4,
 "nbformat_minor": 2
}
