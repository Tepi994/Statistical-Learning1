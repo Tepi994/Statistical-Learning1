{
 "cells": [
  {
   "cell_type": "markdown",
   "metadata": {},
   "source": [
    "# Linear Regression using Gradient Descent with TensorFlow"
   ]
  },
  {
   "cell_type": "code",
   "execution_count": 1,
   "metadata": {},
   "outputs": [],
   "source": [
    "import numpy as np \n",
    "import tensorflow as tf \n",
    "import matplotlib.pyplot as plt "
   ]
  },
  {
   "cell_type": "code",
   "execution_count": 2,
   "metadata": {},
   "outputs": [],
   "source": [
    "np.random.seed(1) \n",
    "tf.set_random_seed(1) "
   ]
  },
  {
   "cell_type": "code",
   "execution_count": 3,
   "metadata": {},
   "outputs": [],
   "source": [
    "ds = np.load(\"proyecto_training_data.npy\")"
   ]
  },
  {
   "cell_type": "code",
   "execution_count": 4,
   "metadata": {},
   "outputs": [
    {
     "name": "stdout",
     "output_type": "stream",
     "text": [
      "(1168, 6)\n"
     ]
    }
   ],
   "source": [
    "### First 80% of dataset used as training set\n",
    "ds_train = ds[:int(len(ds)*0.8),0:7]\n",
    "print(np.shape(ds_train))"
   ]
  },
  {
   "cell_type": "code",
   "execution_count": 5,
   "metadata": {},
   "outputs": [
    {
     "name": "stdout",
     "output_type": "stream",
     "text": [
      "(292, 6)\n"
     ]
    }
   ],
   "source": [
    "## Last 20% of dataset used as test set. \n",
    "ds_test = ds[int(len(ds)*0.8):int(len(ds)),0:7]\n",
    "print(np.shape(ds_test))"
   ]
  },
  {
   "cell_type": "code",
   "execution_count": 6,
   "metadata": {},
   "outputs": [],
   "source": [
    "x= ds_train[:,1]\n",
    "y= ds_train[:,0]\n",
    "n = len(x) # Number of data points"
   ]
  },
  {
   "cell_type": "code",
   "execution_count": 7,
   "metadata": {},
   "outputs": [
    {
     "data": {
      "image/png": "[encoded data removed]",
      "text/plain": [
       "<Figure size 432x288 with 1 Axes>"
      ]
     },
     "metadata": {
      "needs_background": "light"
     },
     "output_type": "display_data"
    }
   ],
   "source": [
    "# Plot of Training Data \n",
    "plt.scatter(x, y) \n",
    "plt.xlabel('x') \n",
    "plt.xlabel('y') \n",
    "plt.title(\"Training Data\") \n",
    "plt.show() "
   ]
  },
  {
   "cell_type": "code",
   "execution_count": 38,
   "metadata": {},
   "outputs": [],
   "source": [
    "tf.reset_default_graph()"
   ]
  },
  {
   "cell_type": "code",
   "execution_count": 39,
   "metadata": {},
   "outputs": [],
   "source": [
    "##placeholders\n",
    "##constantes y placeholders son nodos. por constantes nos referimos a informacion constante. \n",
    "## un placeholder es un nodo vacio, que toma valor hasta que en la sesion ejecutemos el grafo. \n",
    "X = tf.placeholder(\"float\") \n",
    "Y = tf.placeholder(\"float\")\n",
    "\n",
    "#trainable variables defined randomly\n",
    "W = tf.Variable(np.random.randn(), name = \"W\") \n",
    "#W = tf.Variable(500.0, name = \"W\")\n",
    "b = tf.Variable(np.random.randn(), name = \"b\")\n",
    "#b = tf.Variable(1240.0, name = \"b\")\n",
    "\n",
    "#Hyperparameters\n",
    "learning_rate = 0.0001\n",
    "training_epochs = 1000\n",
    "\n",
    "# Hypothesis \n",
    "y_pred = tf.add(tf.multiply(X, W), b) \n",
    "  \n",
    "# Mean Squared Error Cost Function \n",
    "cost = tf.reduce_sum(tf.pow(y_pred-Y, 2)) / (2 * n) \n",
    "  \n",
    "# Gradient Descent Optimizer \n",
    "optimizer = tf.train.GradientDescentOptimizer(learning_rate).minimize(cost) \n",
    "  \n",
    "# Global Variables Initializer \n",
    "init = tf.global_variables_initializer() \n",
    "\n",
    "#\n",
    "disturbance = tf.summary.scalar(name = \"Costfunction\", tensor = cost)"
   ]
  },
  {
   "cell_type": "code",
   "execution_count": 40,
   "metadata": {},
   "outputs": [],
   "source": [
    "# Hypothesis \n",
    "y_pred = tf.add(tf.multiply(X, W), b) \n",
    "  \n",
    "# Mean Squared Error Cost Function \n",
    "cost = tf.reduce_sum(tf.pow(y_pred-Y, 2)) / (2 * n) \n",
    "  \n",
    "# Gradient Descent Optimizer \n",
    "optimizer = tf.train.GradientDescentOptimizer(learning_rate).minimize(cost) \n",
    "  \n",
    "# Global Variables Initializer \n",
    "init = tf.global_variables_initializer() \n",
    "\n",
    "#\n",
    "disturbance = tf.summary.scalar(name = \"Costfunction\", tensor = cost)"
   ]
  },
  {
   "cell_type": "code",
   "execution_count": 41,
   "metadata": {},
   "outputs": [],
   "source": [
    "\n",
    "# Starting the Tensorflow Session \n",
    "with tf.Session() as sess: \n",
    "    \n",
    "      \n",
    "    # Initializing the Variables \n",
    "    #ejecutar los nodos \n",
    "    sess.run(init)\n",
    "   \n",
    "   \n",
    "    writer = tf.summary.FileWriter( './linear_regression_graphs/lr_0.0001', sess.graph)\n",
    "    \n",
    "      \n",
    "    # Iterating through all the epochs \n",
    "    for epoch in range(training_epochs): \n",
    "          \n",
    "        # Feeding each data point into the optimizer using Feed Dictionary \n",
    "\n",
    "        sess.run(optimizer, feed_dict = {X : x, Y : y}) \n",
    "          \n",
    "        # Displaying the result after every 50 epochs \n",
    "        if (epoch + 1) % 50 == 0: \n",
    "            # Calculating the cost a every epoch \n",
    "            c = sess.run(disturbance, feed_dict = {X : x, Y : y}) \n",
    "            writer.add_summary(c,epoch)\n",
    "            #print(\"Epoch\", (epoch + 1), \": cost =\", c, \"W =\", sess.run(W), \"b =\", sess.run(b)) \n",
    "      \n",
    "    # Storing necessary values to be used outside the Session \n",
    "    #training_cost = sess.run(cost, feed_dict ={X: x, Y: y}) \n",
    "    #weight = sess.run(W) \n",
    "    #bias = sess.run(b) \n",
    "    \n",
    "    "
   ]
  },
  {
   "cell_type": "code",
   "execution_count": 13,
   "metadata": {},
   "outputs": [],
   "source": [
    " Calculating the predictions \n",
    "predictions = weight * x + bias \n",
    "print(\"Training cost =\", training_cost, \"Weight =\", weight, \"bias =\", bias, '\\n') \n"
   ]
  },
  {
   "cell_type": "code",
   "execution_count": 44,
   "metadata": {},
   "outputs": [],
   "source": [
    "# Plotting the Results \n",
    "#plt.plot(x, y, 'ro', label ='Original data') \n",
    "#plt.plot(x, predictions, label ='Fitted line') \n",
    "#plt.title('Linear Regression Result') \n",
    "#plt.legend() \n",
    "#plt.show() "
   ]
  },
  {
   "cell_type": "markdown",
   "metadata": {},
   "source": [
    "## Cost function using a LR of 10\n",
    "<img src=\"./error_graphs/lr_10.png\"> "
   ]
  },
  {
   "cell_type": "markdown",
   "metadata": {},
   "source": [
    "## Cost function using a LR of 1\n",
    "<img src=\"./error_graphs/lr_1.png\"> "
   ]
  },
  {
   "cell_type": "markdown",
   "metadata": {},
   "source": [
    "## Cost function using a LR of 0.1\n",
    "<img src=\"./error_graphs/lr_0.1.png\"> "
   ]
  },
  {
   "cell_type": "markdown",
   "metadata": {},
   "source": [
    "## Cost function using a LR of 0.01\n",
    "<img src=\"./error_graphs/lr_0.01.png\"> "
   ]
  },
  {
   "cell_type": "markdown",
   "metadata": {},
   "source": [
    "## Cost function using a LR of 0.001\n",
    "<img src=\"./error_graphs/lr_.001.png\"> "
   ]
  },
  {
   "cell_type": "markdown",
   "metadata": {},
   "source": [
    "## Cost function using a LR of 0.0001\n",
    "<img src=\"./error_graphs/lr_0.0001.png\"> "
   ]
  },
  {
   "cell_type": "markdown",
   "metadata": {},
   "source": [
    "# Conclusions\n",
    "\n",
    "A linear regression model using gradient descent was implemented using 1000 epochs and different learning rates.\n",
    "Using learning rates of 10, 1 and 0.1 didn't show positive results, as error oscilated and did not converged to a certain value.\n",
    "\n",
    "At a learning rate of 0.01 we can see error started to decrease almost linearly down to a value of 1.24e+9\n",
    "At a learning rate of 0.001 and 0.0001 error converged to values near of 1.4e+9 and 2e+9\n",
    "\n",
    "We can see that a the model with a learning rate of 0.01 minimized the error. This is surprising, as I was expecting a better model with a smaller learning rate. However, error did not converged as fast as it was decreased.\n",
    "\n",
    "The model with the learning rate of 0.01 is the best model."
   ]
  }
 ],
 "metadata": {
  "kernelspec": {
   "display_name": "Python 3",
   "language": "python",
   "name": "python3"
  },
  "language_info": {
   "codemirror_mode": {
    "name": "ipython",
    "version": 3
   },
   "file_extension": ".py",
   "mimetype": "text/x-python",
   "name": "python",
   "nbconvert_exporter": "python",
   "pygments_lexer": "ipython3",
   "version": "3.7.3"
  }
 },
 "nbformat": 4,
 "nbformat_minor": 2
}
